{
 "cells": [
  {
   "cell_type": "markdown",
   "metadata": {
    "id": "qd1rbC8jnJIF"
   },
   "source": [
    "# [欠陥・疾患判定の自動化 (2値分類と再現率)](https://github.com/makaishi2/profitable_ai_book_info/blob/master/notebooks/ac_01_heart_disease.ipynb)"
   ]
  },
  {
   "cell_type": "code",
   "execution_count": 5,
   "metadata": {
    "colab": {
     "base_uri": "https://localhost:8080/"
    },
    "collapsed": true,
    "id": "qCK7UVd-nEH4",
    "outputId": "8a73adfa-d3e6-4efe-d8d5-a6e4e04fb176"
   },
   "outputs": [
    {
     "name": "stdout",
     "output_type": "stream",
     "text": [
      "Collecting japanize-matplotlib\n",
      "  Downloading japanize-matplotlib-1.1.3.tar.gz (4.1 MB)\n",
      "  Preparing metadata (setup.py): started\n",
      "  Preparing metadata (setup.py): finished with status 'done'\n",
      "Requirement already satisfied: matplotlib in c:\\users\\okabe\\miniconda3\\envs\\anaconda\\lib\\site-packages (from japanize-matplotlib) (3.6.2)\n",
      "Requirement already satisfied: contourpy>=1.0.1 in c:\\users\\okabe\\miniconda3\\envs\\anaconda\\lib\\site-packages (from matplotlib->japanize-matplotlib) (1.0.6)\n",
      "Requirement already satisfied: fonttools>=4.22.0 in c:\\users\\okabe\\miniconda3\\envs\\anaconda\\lib\\site-packages (from matplotlib->japanize-matplotlib) (4.28.4)\n",
      "Requirement already satisfied: kiwisolver>=1.0.1 in c:\\users\\okabe\\miniconda3\\envs\\anaconda\\lib\\site-packages (from matplotlib->japanize-matplotlib) (1.3.2)\n",
      "Requirement already satisfied: cycler>=0.10 in c:\\users\\okabe\\miniconda3\\envs\\anaconda\\lib\\site-packages (from matplotlib->japanize-matplotlib) (0.11.0)\n",
      "Requirement already satisfied: packaging>=20.0 in c:\\users\\okabe\\miniconda3\\envs\\anaconda\\lib\\site-packages (from matplotlib->japanize-matplotlib) (21.3)\n",
      "Requirement already satisfied: python-dateutil>=2.7 in c:\\users\\okabe\\miniconda3\\envs\\anaconda\\lib\\site-packages (from matplotlib->japanize-matplotlib) (2.8.2)\n",
      "Requirement already satisfied: pyparsing>=2.2.1 in c:\\users\\okabe\\miniconda3\\envs\\anaconda\\lib\\site-packages (from matplotlib->japanize-matplotlib) (3.0.6)\n",
      "Requirement already satisfied: numpy>=1.19 in c:\\users\\okabe\\miniconda3\\envs\\anaconda\\lib\\site-packages (from matplotlib->japanize-matplotlib) (1.20.3)\n",
      "Requirement already satisfied: pillow>=6.2.0 in c:\\users\\okabe\\miniconda3\\envs\\anaconda\\lib\\site-packages (from matplotlib->japanize-matplotlib) (8.4.0)\n",
      "Requirement already satisfied: six>=1.5 in c:\\users\\okabe\\miniconda3\\envs\\anaconda\\lib\\site-packages (from python-dateutil>=2.7->matplotlib->japanize-matplotlib) (1.16.0)\n",
      "Building wheels for collected packages: japanize-matplotlib\n",
      "  Building wheel for japanize-matplotlib (setup.py): started\n",
      "  Building wheel for japanize-matplotlib (setup.py): finished with status 'done'\n",
      "  Created wheel for japanize-matplotlib: filename=japanize_matplotlib-1.1.3-py3-none-any.whl size=4120274 sha256=1f4cf000f45a20d646c3df189588fe6e4eb19c22e0aa6fe5642d134de231d49a\n",
      "  Stored in directory: c:\\users\\okabe\\appdata\\local\\pip\\cache\\wheels\\91\\8f\\c2\\83055ad0c9591b0a094730aa7cb2cc12fedacbcd2241baf534\n",
      "Successfully built japanize-matplotlib\n",
      "Installing collected packages: japanize-matplotlib\n",
      "Successfully installed japanize-matplotlib-1.1.3\n"
     ]
    }
   ],
   "source": [
    "# 日本語化ライブラリ導入\n",
    "!pip install japanize-matplotlib"
   ]
  },
  {
   "cell_type": "markdown",
   "metadata": {},
   "source": [
    "## 共通事前処理"
   ]
  },
  {
   "cell_type": "code",
   "execution_count": 62,
   "metadata": {},
   "outputs": [],
   "source": [
    "# 余分なワーニングを非表示にする\n",
    "import warnings\n",
    "warnings.filterwarnings('ignore')"
   ]
  },
  {
   "cell_type": "code",
   "execution_count": 7,
   "metadata": {},
   "outputs": [],
   "source": [
    "#必要なライブラリのインポート\n",
    "import pandas as pd\n",
    "import numpy as np\n",
    "import matplotlib.pyplot as plt"
   ]
  },
  {
   "cell_type": "code",
   "execution_count": 9,
   "metadata": {},
   "outputs": [],
   "source": [
    "# matplotlib日本語化対応\n",
    "import japanize_matplotlib"
   ]
  },
  {
   "cell_type": "code",
   "execution_count": 11,
   "metadata": {},
   "outputs": [],
   "source": [
    "# データフレーム表示用関数\n",
    "from IPython.display import display"
   ]
  },
  {
   "cell_type": "code",
   "execution_count": 15,
   "metadata": {},
   "outputs": [],
   "source": [
    "# 表示オプション調整\n",
    "# numpyの浮動小数点の表示精度\n",
    "np.set_printoptions(suppress=True, precision=4)\n",
    "\n",
    "# pandasでの浮動小数点の表示精度\n",
    "pd.options.display.float_format = '{:.4f}'.format\n",
    "\n",
    "# データフレームですべての項目を表示\n",
    "pd.set_option(\"display.max_columns\",None)\n",
    "\n",
    "# グラフのデフォルトフォント指定\n",
    "plt.rcParams[\"font.size\"] = 14"
   ]
  },
  {
   "cell_type": "code",
   "execution_count": 16,
   "metadata": {
    "id": "CMRal71CnEXq"
   },
   "outputs": [],
   "source": [
    "# 乱数の種\n",
    "random_seed = 123"
   ]
  },
  {
   "cell_type": "code",
   "execution_count": 69,
   "metadata": {
    "id": "Y7A_LivInEc2"
   },
   "outputs": [],
   "source": [
    "# 混同行列表示用関数\n",
    "\n",
    "def make_cm(matrix, columns):\n",
    "    # matrix numpy配列\n",
    "    \n",
    "    # columns 項目名リスト\n",
    "    n = len(columns)\n",
    "    \n",
    "    # '正解データ'をn回繰り返すリスト生成\n",
    "    act = ['正解データ'] * n\n",
    "    pred = ['予測結果'] * n\n",
    "    \n",
    "    #データフレーム生成\n",
    "    cm = pd.DataFrame(matrix, \n",
    "        columns=[pred, columns], index=[act, columns])\n",
    "    return cm"
   ]
  },
  {
   "cell_type": "markdown",
   "metadata": {
    "id": "piTIvTtWnpaN"
   },
   "source": [
    "### 項目メモ\n",
    "\n",
    "#### age\n",
    "年齢\n",
    "\n",
    "#### sex\n",
    "性別\n",
    "* 1: 男性\n",
    "* 0: 女性\n",
    "\n",
    "#### cp\n",
    "胸痛種別\n",
    "* 1：典型的な狭心症\n",
    "* 2：非定型狭心症\n",
    "* 3：非狭心痛\n",
    "* 4：無症候性 \n",
    "\n",
    "#### trestbps\n",
    "安静時血圧  \n",
    "（入院時のmm Hg単位）\n",
    "    \n",
    "#### chol\n",
    "血清コレステロール  \n",
    "（mg / dl）\n",
    "\n",
    "#### fbs\n",
    "空腹時血糖   \n",
    "(> 120 (mg / dl）)\n",
    "* 1 真\n",
    "* 0 偽\n",
    "\n",
    "#### restecg\n",
    "安静時心電図\n",
    " \n",
    "* 0：通常\n",
    "* 1：ST-T波異常（T波反転および/またはST上昇または抑圧> 0.05 mV）\n",
    "* 2：左心室肥大の可能性あり\n",
    "\n",
    "#### thalach\n",
    "最大心拍数\n",
    "\n",
    "#### exang\n",
    "運動誘発性狭心症\n",
    "* 1  はい\n",
    "* 0  いいえ\n",
    "    \n",
    "#### oldpeak\n",
    "ST低下    \n",
    "(運動により誘発される安静時と比較したST低下)\n",
    "\n",
    "#### slope\n",
    " STセグメント勾配  \n",
    "(ピーク運動STセグメント勾配)\n",
    "* 1 上昇\n",
    "* 2 フラット  \n",
    "* 3 下降\n",
    "\n",
    "#### ca \n",
    "主要血管数  \n",
    "(X線透視撮影で着色された主要な血管数（0〜3）)\n",
    "\n",
    "\n",
    "#### thal\n",
    "タール  \n",
    "(タリウム心臓スキャンの結果) \n",
    "* 3: 通常\n",
    "* 6 : 修正された欠陥\n",
    "* 7 : 回復可能な欠陥\n",
    "\n",
    "\n",
    "#### num (目的変数)\n",
    "心臓病診断  \n",
    " （血管造影の状態）\n",
    "* 0: 所見なし\n",
    "* 1: 所見あり"
   ]
  },
  {
   "cell_type": "code",
   "execution_count": 17,
   "metadata": {
    "id": "1raurDzpnEoS"
   },
   "outputs": [],
   "source": [
    "# 心疾患公開データ読み込み\n",
    "\n",
    "columns = [\n",
    "    '年齢', '性別', '胸痛種別', '安静時血圧',  '血清コレステロール',\n",
    "    '空腹時血糖値', '安静時心電図',  '最大心拍数',  '運動誘発性狭心症',\n",
    "    'ST低下', 'STセグメント勾配', '主要血管数', 'タール', '心臓病診断'\n",
    "]\n",
    "\n",
    "# 公開データセットのURL\n",
    "url_hu = 'https://archive.ics.uci.edu/ml/machine-learning-databases/\\\n",
    "heart-disease/processed.hungarian.data'"
   ]
  },
  {
   "cell_type": "code",
   "execution_count": 18,
   "metadata": {},
   "outputs": [],
   "source": [
    "# データフレームへの取り込み\n",
    "# 欠損値は'?'で表現されているので、読み込み時にPythonのNaNに変換する\n",
    "df_hu = pd.read_csv(url_hu, header=None, names=columns, na_values='?')"
   ]
  },
  {
   "cell_type": "code",
   "execution_count": 24,
   "metadata": {
    "colab": {
     "base_uri": "https://localhost:8080/",
     "height": 285
    },
    "id": "Y2xLh8WqnEtI",
    "outputId": "bbfef571-9bac-41b2-dc0d-0f083e27504b"
   },
   "outputs": [
    {
     "data": {
      "text/html": [
       "<div>\n",
       "<style scoped>\n",
       "    .dataframe tbody tr th:only-of-type {\n",
       "        vertical-align: middle;\n",
       "    }\n",
       "\n",
       "    .dataframe tbody tr th {\n",
       "        vertical-align: top;\n",
       "    }\n",
       "\n",
       "    .dataframe thead th {\n",
       "        text-align: right;\n",
       "    }\n",
       "</style>\n",
       "<table border=\"1\" class=\"dataframe\">\n",
       "  <thead>\n",
       "    <tr style=\"text-align: right;\">\n",
       "      <th></th>\n",
       "      <th>年齢</th>\n",
       "      <th>性別</th>\n",
       "      <th>胸痛種別</th>\n",
       "      <th>安静時血圧</th>\n",
       "      <th>血清コレステロール</th>\n",
       "      <th>空腹時血糖値</th>\n",
       "      <th>安静時心電図</th>\n",
       "      <th>最大心拍数</th>\n",
       "      <th>運動誘発性狭心症</th>\n",
       "      <th>ST低下</th>\n",
       "      <th>STセグメント勾配</th>\n",
       "      <th>主要血管数</th>\n",
       "      <th>タール</th>\n",
       "      <th>心臓病診断</th>\n",
       "    </tr>\n",
       "  </thead>\n",
       "  <tbody>\n",
       "    <tr>\n",
       "      <th>0</th>\n",
       "      <td>28</td>\n",
       "      <td>1</td>\n",
       "      <td>2</td>\n",
       "      <td>130.0000</td>\n",
       "      <td>132.0000</td>\n",
       "      <td>0.0000</td>\n",
       "      <td>2.0000</td>\n",
       "      <td>185.0000</td>\n",
       "      <td>0.0000</td>\n",
       "      <td>0.0000</td>\n",
       "      <td>NaN</td>\n",
       "      <td>NaN</td>\n",
       "      <td>NaN</td>\n",
       "      <td>0</td>\n",
       "    </tr>\n",
       "    <tr>\n",
       "      <th>1</th>\n",
       "      <td>29</td>\n",
       "      <td>1</td>\n",
       "      <td>2</td>\n",
       "      <td>120.0000</td>\n",
       "      <td>243.0000</td>\n",
       "      <td>0.0000</td>\n",
       "      <td>0.0000</td>\n",
       "      <td>160.0000</td>\n",
       "      <td>0.0000</td>\n",
       "      <td>0.0000</td>\n",
       "      <td>NaN</td>\n",
       "      <td>NaN</td>\n",
       "      <td>NaN</td>\n",
       "      <td>0</td>\n",
       "    </tr>\n",
       "    <tr>\n",
       "      <th>2</th>\n",
       "      <td>29</td>\n",
       "      <td>1</td>\n",
       "      <td>2</td>\n",
       "      <td>140.0000</td>\n",
       "      <td>NaN</td>\n",
       "      <td>0.0000</td>\n",
       "      <td>0.0000</td>\n",
       "      <td>170.0000</td>\n",
       "      <td>0.0000</td>\n",
       "      <td>0.0000</td>\n",
       "      <td>NaN</td>\n",
       "      <td>NaN</td>\n",
       "      <td>NaN</td>\n",
       "      <td>0</td>\n",
       "    </tr>\n",
       "    <tr>\n",
       "      <th>3</th>\n",
       "      <td>30</td>\n",
       "      <td>0</td>\n",
       "      <td>1</td>\n",
       "      <td>170.0000</td>\n",
       "      <td>237.0000</td>\n",
       "      <td>0.0000</td>\n",
       "      <td>1.0000</td>\n",
       "      <td>170.0000</td>\n",
       "      <td>0.0000</td>\n",
       "      <td>0.0000</td>\n",
       "      <td>NaN</td>\n",
       "      <td>NaN</td>\n",
       "      <td>6.0000</td>\n",
       "      <td>0</td>\n",
       "    </tr>\n",
       "    <tr>\n",
       "      <th>4</th>\n",
       "      <td>31</td>\n",
       "      <td>0</td>\n",
       "      <td>2</td>\n",
       "      <td>100.0000</td>\n",
       "      <td>219.0000</td>\n",
       "      <td>0.0000</td>\n",
       "      <td>1.0000</td>\n",
       "      <td>150.0000</td>\n",
       "      <td>0.0000</td>\n",
       "      <td>0.0000</td>\n",
       "      <td>NaN</td>\n",
       "      <td>NaN</td>\n",
       "      <td>NaN</td>\n",
       "      <td>0</td>\n",
       "    </tr>\n",
       "  </tbody>\n",
       "</table>\n",
       "</div>"
      ],
      "text/plain": [
       "   年齢  性別  胸痛種別    安静時血圧  血清コレステロール  空腹時血糖値  安静時心電図    最大心拍数  運動誘発性狭心症   ST低下  \\\n",
       "0  28   1     2 130.0000   132.0000  0.0000  2.0000 185.0000    0.0000 0.0000   \n",
       "1  29   1     2 120.0000   243.0000  0.0000  0.0000 160.0000    0.0000 0.0000   \n",
       "2  29   1     2 140.0000        NaN  0.0000  0.0000 170.0000    0.0000 0.0000   \n",
       "3  30   0     1 170.0000   237.0000  0.0000  1.0000 170.0000    0.0000 0.0000   \n",
       "4  31   0     2 100.0000   219.0000  0.0000  1.0000 150.0000    0.0000 0.0000   \n",
       "\n",
       "   STセグメント勾配  主要血管数    タール  心臓病診断  \n",
       "0        NaN    NaN    NaN      0  \n",
       "1        NaN    NaN    NaN      0  \n",
       "2        NaN    NaN    NaN      0  \n",
       "3        NaN    NaN 6.0000      0  \n",
       "4        NaN    NaN    NaN      0  "
      ]
     },
     "metadata": {},
     "output_type": "display_data"
    }
   ],
   "source": [
    "# データ全体の確認\n",
    "display(df_hu.head())"
   ]
  },
  {
   "cell_type": "code",
   "execution_count": 26,
   "metadata": {},
   "outputs": [
    {
     "name": "stdout",
     "output_type": "stream",
     "text": [
      "(294, 14)\n"
     ]
    }
   ],
   "source": [
    "# 学習データ件数と項目数確認\n",
    "print(df_hu.shape)"
   ]
  },
  {
   "cell_type": "code",
   "execution_count": 29,
   "metadata": {},
   "outputs": [
    {
     "name": "stdout",
     "output_type": "stream",
     "text": [
      "0    188\n",
      "1    106\n",
      "Name: 心臓病診断, dtype: int64\n"
     ]
    }
   ],
   "source": [
    "# 「心臓病診断」の値の分布確認\n",
    "print(df_hu['心臓病診断'].value_counts())"
   ]
  },
  {
   "cell_type": "code",
   "execution_count": 30,
   "metadata": {
    "colab": {
     "base_uri": "https://localhost:8080/"
    },
    "id": "JfieILuNnEyE",
    "outputId": "3d2e6556-7874-462b-dab2-b369ec692e98"
   },
   "outputs": [
    {
     "name": "stdout",
     "output_type": "stream",
     "text": [
      "有症率: 0.3605\n"
     ]
    }
   ],
   "source": [
    "# 所見あり比率\n",
    "rate = df_hu['心臓病診断'].value_counts()[1]/len(df_hu)\n",
    "print(f'有症率: {rate:.4f}')"
   ]
  },
  {
   "cell_type": "code",
   "execution_count": 33,
   "metadata": {
    "colab": {
     "base_uri": "https://localhost:8080/",
     "height": 722
    },
    "id": "EVF7GGPknE3N",
    "outputId": "b9f9acc3-f5af-4813-82db-2c63fc604eea"
   },
   "outputs": [
    {
     "data": {
      "image/png": "[encoded data removed]",
      "text/plain": [
       "<Figure size 864x864 with 16 Axes>"
      ]
     },
     "metadata": {
      "needs_background": "light"
     },
     "output_type": "display_data"
    }
   ],
   "source": [
    "# ヒストグラム表示\n",
    "\n",
    "# グラフのサイズ調整\n",
    "from pylab import rcParams\n",
    "rcParams['figure.figsize'] = (12, 12)\n",
    "\n",
    "# データフレームの数値項目でヒストグラム表示\n",
    "df_hu.hist()\n",
    "plt.show()"
   ]
  },
  {
   "cell_type": "code",
   "execution_count": 38,
   "metadata": {
    "colab": {
     "base_uri": "https://localhost:8080/"
    },
    "id": "JKuEu-pHosWr",
    "outputId": "5a36aef1-36bb-444a-9020-d794bf0d7eab"
   },
   "outputs": [
    {
     "name": "stdout",
     "output_type": "stream",
     "text": [
      "年齢             0\n",
      "性別             0\n",
      "胸痛種別           0\n",
      "安静時血圧          1\n",
      "血清コレステロール     23\n",
      "空腹時血糖値         8\n",
      "安静時心電図         1\n",
      "最大心拍数          1\n",
      "運動誘発性狭心症       1\n",
      "ST低下           0\n",
      "STセグメント勾配    190\n",
      "主要血管数        291\n",
      "タール          266\n",
      "心臓病診断          0\n",
      "dtype: int64\n"
     ]
    }
   ],
   "source": [
    "# 欠損値確認\n",
    "print(df_hu.isnull().sum())"
   ]
  },
  {
   "cell_type": "markdown",
   "metadata": {
    "id": "bHosUSGAn1oT"
   },
   "source": [
    "## データ前処理"
   ]
  },
  {
   "cell_type": "markdown",
   "metadata": {
    "id": "Cay3tJs7n1oU"
   },
   "source": [
    "#### 欠損値対応方針\n",
    "\n",
    "* 安静時血圧: 平均値\n",
    "*  血清コレステロール: 平均値\n",
    "* 空腹時血糖値: 0\n",
    "* 安静時心電図: 0\n",
    "* 最大心拍数: 平均値\n",
    "* 運動誘発性狭心症: 0   \n",
    "* STセグメント勾配: 2  \n",
    "----    \n",
    "* 主要血管数: 項目ごと落とす\n",
    "* タール: 項目ごと落とす\n"
   ]
  },
  {
   "cell_type": "code",
   "execution_count": 39,
   "metadata": {
    "colab": {
     "base_uri": "https://localhost:8080/"
    },
    "id": "eALDQuuVo8fD",
    "outputId": "bb0fef1b-8832-4c93-a12b-aaf4dd27f96a"
   },
   "outputs": [
    {
     "name": "stdout",
     "output_type": "stream",
     "text": [
      "安静時血圧: 132.6  血清コレステロール: 250.8   最大心拍数:139.1\n"
     ]
    }
   ],
   "source": [
    "# 平均値の計算\n",
    "ave1 = df_hu['安静時血圧'].mean()\n",
    "ave2 = df_hu['血清コレステロール'].mean()\n",
    "ave3 = df_hu['最大心拍数'].mean()\n",
    "\n",
    "# 結果確認\n",
    "print(f'安静時血圧: {ave1:.1f}  血清コレステロール: {ave2:.1f}   最大心拍数:{ave3:.1f}')"
   ]
  },
  {
   "cell_type": "code",
   "execution_count": 41,
   "metadata": {
    "id": "izS0ppDipRPy"
   },
   "outputs": [],
   "source": [
    "# 欠損値の置換\n",
    "df2 = df_hu.fillna(\n",
    "    {'安静時血圧': ave1,\n",
    "    '血清コレステロール': ave2,\n",
    "    '空腹時血糖値': 0,\n",
    "    '安静時心電図': 0,\n",
    "    '最大心拍数': ave3,\n",
    "    '運動誘発性狭心症': 0,\n",
    "    'STセグメント勾配': 2}\n",
    ")\n",
    "\n",
    "# 列の削除\n",
    "df3 = df2.drop(['主要血管数', 'タール'], axis=1)"
   ]
  },
  {
   "cell_type": "code",
   "execution_count": 42,
   "metadata": {
    "colab": {
     "base_uri": "https://localhost:8080/",
     "height": 501
    },
    "id": "JzTy6wv5pXVl",
    "outputId": "dbb1caa8-bcd2-48bc-9cf8-ef16bb3ab11f"
   },
   "outputs": [
    {
     "name": "stdout",
     "output_type": "stream",
     "text": [
      "年齢           0\n",
      "性別           0\n",
      "胸痛種別         0\n",
      "安静時血圧        0\n",
      "血清コレステロール    0\n",
      "空腹時血糖値       0\n",
      "安静時心電図       0\n",
      "最大心拍数        0\n",
      "運動誘発性狭心症     0\n",
      "ST低下         0\n",
      "STセグメント勾配    0\n",
      "心臓病診断        0\n",
      "dtype: int64\n"
     ]
    }
   ],
   "source": [
    "# 結果確認\n",
    "print(df3.isnull().sum())"
   ]
  },
  {
   "cell_type": "code",
   "execution_count": 43,
   "metadata": {},
   "outputs": [
    {
     "data": {
      "text/html": [
       "<div>\n",
       "<style scoped>\n",
       "    .dataframe tbody tr th:only-of-type {\n",
       "        vertical-align: middle;\n",
       "    }\n",
       "\n",
       "    .dataframe tbody tr th {\n",
       "        vertical-align: top;\n",
       "    }\n",
       "\n",
       "    .dataframe thead th {\n",
       "        text-align: right;\n",
       "    }\n",
       "</style>\n",
       "<table border=\"1\" class=\"dataframe\">\n",
       "  <thead>\n",
       "    <tr style=\"text-align: right;\">\n",
       "      <th></th>\n",
       "      <th>年齢</th>\n",
       "      <th>性別</th>\n",
       "      <th>胸痛種別</th>\n",
       "      <th>安静時血圧</th>\n",
       "      <th>血清コレステロール</th>\n",
       "      <th>空腹時血糖値</th>\n",
       "      <th>安静時心電図</th>\n",
       "      <th>最大心拍数</th>\n",
       "      <th>運動誘発性狭心症</th>\n",
       "      <th>ST低下</th>\n",
       "      <th>STセグメント勾配</th>\n",
       "      <th>心臓病診断</th>\n",
       "    </tr>\n",
       "  </thead>\n",
       "  <tbody>\n",
       "    <tr>\n",
       "      <th>0</th>\n",
       "      <td>28</td>\n",
       "      <td>1</td>\n",
       "      <td>2</td>\n",
       "      <td>130.0000</td>\n",
       "      <td>132.0000</td>\n",
       "      <td>0.0000</td>\n",
       "      <td>2.0000</td>\n",
       "      <td>185.0000</td>\n",
       "      <td>0.0000</td>\n",
       "      <td>0.0000</td>\n",
       "      <td>2.0000</td>\n",
       "      <td>0</td>\n",
       "    </tr>\n",
       "    <tr>\n",
       "      <th>1</th>\n",
       "      <td>29</td>\n",
       "      <td>1</td>\n",
       "      <td>2</td>\n",
       "      <td>120.0000</td>\n",
       "      <td>243.0000</td>\n",
       "      <td>0.0000</td>\n",
       "      <td>0.0000</td>\n",
       "      <td>160.0000</td>\n",
       "      <td>0.0000</td>\n",
       "      <td>0.0000</td>\n",
       "      <td>2.0000</td>\n",
       "      <td>0</td>\n",
       "    </tr>\n",
       "    <tr>\n",
       "      <th>2</th>\n",
       "      <td>29</td>\n",
       "      <td>1</td>\n",
       "      <td>2</td>\n",
       "      <td>140.0000</td>\n",
       "      <td>250.8487</td>\n",
       "      <td>0.0000</td>\n",
       "      <td>0.0000</td>\n",
       "      <td>170.0000</td>\n",
       "      <td>0.0000</td>\n",
       "      <td>0.0000</td>\n",
       "      <td>2.0000</td>\n",
       "      <td>0</td>\n",
       "    </tr>\n",
       "    <tr>\n",
       "      <th>3</th>\n",
       "      <td>30</td>\n",
       "      <td>0</td>\n",
       "      <td>1</td>\n",
       "      <td>170.0000</td>\n",
       "      <td>237.0000</td>\n",
       "      <td>0.0000</td>\n",
       "      <td>1.0000</td>\n",
       "      <td>170.0000</td>\n",
       "      <td>0.0000</td>\n",
       "      <td>0.0000</td>\n",
       "      <td>2.0000</td>\n",
       "      <td>0</td>\n",
       "    </tr>\n",
       "    <tr>\n",
       "      <th>4</th>\n",
       "      <td>31</td>\n",
       "      <td>0</td>\n",
       "      <td>2</td>\n",
       "      <td>100.0000</td>\n",
       "      <td>219.0000</td>\n",
       "      <td>0.0000</td>\n",
       "      <td>1.0000</td>\n",
       "      <td>150.0000</td>\n",
       "      <td>0.0000</td>\n",
       "      <td>0.0000</td>\n",
       "      <td>2.0000</td>\n",
       "      <td>0</td>\n",
       "    </tr>\n",
       "  </tbody>\n",
       "</table>\n",
       "</div>"
      ],
      "text/plain": [
       "   年齢  性別  胸痛種別    安静時血圧  血清コレステロール  空腹時血糖値  安静時心電図    最大心拍数  運動誘発性狭心症   ST低下  \\\n",
       "0  28   1     2 130.0000   132.0000  0.0000  2.0000 185.0000    0.0000 0.0000   \n",
       "1  29   1     2 120.0000   243.0000  0.0000  0.0000 160.0000    0.0000 0.0000   \n",
       "2  29   1     2 140.0000   250.8487  0.0000  0.0000 170.0000    0.0000 0.0000   \n",
       "3  30   0     1 170.0000   237.0000  0.0000  1.0000 170.0000    0.0000 0.0000   \n",
       "4  31   0     2 100.0000   219.0000  0.0000  1.0000 150.0000    0.0000 0.0000   \n",
       "\n",
       "   STセグメント勾配  心臓病診断  \n",
       "0     2.0000      0  \n",
       "1     2.0000      0  \n",
       "2     2.0000      0  \n",
       "3     2.0000      0  \n",
       "4     2.0000      0  "
      ]
     },
     "metadata": {},
     "output_type": "display_data"
    }
   ],
   "source": [
    "display(df3.head())"
   ]
  },
  {
   "cell_type": "markdown",
   "metadata": {
    "id": "XHSVyU3In1oU"
   },
   "source": [
    "## データ分割"
   ]
  },
  {
   "cell_type": "code",
   "execution_count": 44,
   "metadata": {},
   "outputs": [],
   "source": [
    "# 入力データと正解データの分離\n",
    "x = df3.drop('心臓病診断', axis=1)\n",
    "y = df3['心臓病診断'].values"
   ]
  },
  {
   "cell_type": "code",
   "execution_count": 52,
   "metadata": {},
   "outputs": [
    {
     "data": {
      "text/html": [
       "<div>\n",
       "<style scoped>\n",
       "    .dataframe tbody tr th:only-of-type {\n",
       "        vertical-align: middle;\n",
       "    }\n",
       "\n",
       "    .dataframe tbody tr th {\n",
       "        vertical-align: top;\n",
       "    }\n",
       "\n",
       "    .dataframe thead th {\n",
       "        text-align: right;\n",
       "    }\n",
       "</style>\n",
       "<table border=\"1\" class=\"dataframe\">\n",
       "  <thead>\n",
       "    <tr style=\"text-align: right;\">\n",
       "      <th></th>\n",
       "      <th>年齢</th>\n",
       "      <th>性別</th>\n",
       "      <th>胸痛種別</th>\n",
       "      <th>安静時血圧</th>\n",
       "      <th>血清コレステロール</th>\n",
       "      <th>空腹時血糖値</th>\n",
       "      <th>安静時心電図</th>\n",
       "      <th>最大心拍数</th>\n",
       "      <th>運動誘発性狭心症</th>\n",
       "      <th>ST低下</th>\n",
       "      <th>STセグメント勾配</th>\n",
       "    </tr>\n",
       "  </thead>\n",
       "  <tbody>\n",
       "    <tr>\n",
       "      <th>0</th>\n",
       "      <td>28</td>\n",
       "      <td>1</td>\n",
       "      <td>2</td>\n",
       "      <td>130.0000</td>\n",
       "      <td>132.0000</td>\n",
       "      <td>0.0000</td>\n",
       "      <td>2.0000</td>\n",
       "      <td>185.0000</td>\n",
       "      <td>0.0000</td>\n",
       "      <td>0.0000</td>\n",
       "      <td>2.0000</td>\n",
       "    </tr>\n",
       "    <tr>\n",
       "      <th>1</th>\n",
       "      <td>29</td>\n",
       "      <td>1</td>\n",
       "      <td>2</td>\n",
       "      <td>120.0000</td>\n",
       "      <td>243.0000</td>\n",
       "      <td>0.0000</td>\n",
       "      <td>0.0000</td>\n",
       "      <td>160.0000</td>\n",
       "      <td>0.0000</td>\n",
       "      <td>0.0000</td>\n",
       "      <td>2.0000</td>\n",
       "    </tr>\n",
       "    <tr>\n",
       "      <th>2</th>\n",
       "      <td>29</td>\n",
       "      <td>1</td>\n",
       "      <td>2</td>\n",
       "      <td>140.0000</td>\n",
       "      <td>250.8487</td>\n",
       "      <td>0.0000</td>\n",
       "      <td>0.0000</td>\n",
       "      <td>170.0000</td>\n",
       "      <td>0.0000</td>\n",
       "      <td>0.0000</td>\n",
       "      <td>2.0000</td>\n",
       "    </tr>\n",
       "    <tr>\n",
       "      <th>3</th>\n",
       "      <td>30</td>\n",
       "      <td>0</td>\n",
       "      <td>1</td>\n",
       "      <td>170.0000</td>\n",
       "      <td>237.0000</td>\n",
       "      <td>0.0000</td>\n",
       "      <td>1.0000</td>\n",
       "      <td>170.0000</td>\n",
       "      <td>0.0000</td>\n",
       "      <td>0.0000</td>\n",
       "      <td>2.0000</td>\n",
       "    </tr>\n",
       "    <tr>\n",
       "      <th>4</th>\n",
       "      <td>31</td>\n",
       "      <td>0</td>\n",
       "      <td>2</td>\n",
       "      <td>100.0000</td>\n",
       "      <td>219.0000</td>\n",
       "      <td>0.0000</td>\n",
       "      <td>1.0000</td>\n",
       "      <td>150.0000</td>\n",
       "      <td>0.0000</td>\n",
       "      <td>0.0000</td>\n",
       "      <td>2.0000</td>\n",
       "    </tr>\n",
       "  </tbody>\n",
       "</table>\n",
       "</div>"
      ],
      "text/plain": [
       "   年齢  性別  胸痛種別    安静時血圧  血清コレステロール  空腹時血糖値  安静時心電図    最大心拍数  運動誘発性狭心症   ST低下  \\\n",
       "0  28   1     2 130.0000   132.0000  0.0000  2.0000 185.0000    0.0000 0.0000   \n",
       "1  29   1     2 120.0000   243.0000  0.0000  0.0000 160.0000    0.0000 0.0000   \n",
       "2  29   1     2 140.0000   250.8487  0.0000  0.0000 170.0000    0.0000 0.0000   \n",
       "3  30   0     1 170.0000   237.0000  0.0000  1.0000 170.0000    0.0000 0.0000   \n",
       "4  31   0     2 100.0000   219.0000  0.0000  1.0000 150.0000    0.0000 0.0000   \n",
       "\n",
       "   STセグメント勾配  \n",
       "0     2.0000  \n",
       "1     2.0000  \n",
       "2     2.0000  \n",
       "3     2.0000  \n",
       "4     2.0000  "
      ]
     },
     "metadata": {},
     "output_type": "display_data"
    }
   ],
   "source": [
    "display(x.head())"
   ]
  },
  {
   "cell_type": "code",
   "execution_count": 55,
   "metadata": {},
   "outputs": [
    {
     "data": {
      "text/plain": [
       "array([0, 0, 0, 0, 0, 0, 0, 0, 0, 0, 0, 0, 0, 0, 0, 0, 0, 0, 0, 0, 0, 0,\n",
       "       0, 0, 0, 0, 0, 0, 0, 0, 0, 0, 0, 0, 0, 0, 0, 0, 0, 0, 0, 0, 0, 0,\n",
       "       0, 0, 0, 0, 0, 0, 0, 0, 0, 0, 0, 0, 0, 0, 0, 0, 0, 0, 0, 0, 0, 0,\n",
       "       0, 0, 0, 0, 0, 0, 0, 0, 0, 0, 0, 0, 0, 0, 0, 0, 0, 0, 0, 0, 0, 0,\n",
       "       0, 0, 0, 0, 0, 0, 0, 0, 0, 0, 0, 0, 0, 0, 0, 0, 0, 0, 0, 0, 0, 0,\n",
       "       0, 0, 0, 0, 0, 0, 0, 0, 0, 0, 0, 0, 0, 0, 0, 0, 0, 0, 0, 0, 0, 0,\n",
       "       0, 0, 0, 0, 0, 0, 0, 0, 0, 0, 0, 0, 0, 0, 0, 0, 0, 0, 0, 0, 0, 0,\n",
       "       0, 0, 0, 0, 0, 0, 0, 0, 0, 0, 0, 0, 0, 0, 0, 0, 0, 0, 0, 0, 0, 0,\n",
       "       0, 0, 0, 0, 0, 0, 0, 0, 0, 0, 0, 0, 1, 1, 1, 1, 1, 1, 1, 1, 1, 1,\n",
       "       1, 1, 1, 1, 1, 1, 1, 1, 1, 1, 1, 1, 1, 1, 1, 1, 1, 1, 1, 1, 1, 1,\n",
       "       1, 1, 1, 1, 1, 1, 1, 1, 1, 1, 1, 1, 1, 1, 1, 1, 1, 1, 1, 1, 1, 1,\n",
       "       1, 1, 1, 1, 1, 1, 1, 1, 1, 1, 1, 1, 1, 1, 1, 1, 1, 1, 1, 1, 1, 1,\n",
       "       1, 1, 1, 1, 1, 1, 1, 1, 1, 1, 1, 1, 1, 1, 1, 1, 1, 1, 1, 1, 1, 1,\n",
       "       1, 1, 1, 1, 1, 1, 1, 1], dtype=int64)"
      ]
     },
     "metadata": {},
     "output_type": "display_data"
    }
   ],
   "source": [
    "display(y)"
   ]
  },
  {
   "cell_type": "code",
   "execution_count": 58,
   "metadata": {
    "id": "YGrcMag_piPD"
   },
   "outputs": [],
   "source": [
    "# 訓練データと検証データの分離\n",
    "test_size=0.40\n",
    "\n",
    "from sklearn.model_selection import train_test_split\n",
    "\n",
    "x_train, x_test, y_train, y_test = \\\n",
    "    train_test_split(x, y, test_size=test_size, random_state=random_seed, stratify=y) \n",
    "#引数stratifyを指定すると、分割後の各ラベルの比率が元のデータの比率（この例では3種類が均等）と一致するように分割できる。"
   ]
  },
  {
   "cell_type": "markdown",
   "metadata": {
    "id": "s6QR2o5Sn1oV"
   },
   "source": [
    "## アルゴリズム選定"
   ]
  },
  {
   "cell_type": "code",
   "execution_count": 60,
   "metadata": {},
   "outputs": [],
   "source": [
    "# 候補アルゴリズムのリスト化\n",
    "\n",
    "# ロジスティック回帰 (4.3.3)\n",
    "from sklearn.linear_model import LogisticRegression\n",
    "algorithm1 = LogisticRegression(random_state=random_seed)\n",
    "\n",
    "# 決定木 (4.3.6)\n",
    "from sklearn.tree import DecisionTreeClassifier\n",
    "algorithm2 = DecisionTreeClassifier(random_state=random_seed)\n",
    "\n",
    "# ランダムフォレスト (4.3.7)\n",
    "from sklearn.ensemble import RandomForestClassifier\n",
    "algorithm3 = RandomForestClassifier(random_state=random_seed)\n",
    "\n",
    "# XGBoost (4.3.8)\n",
    "from xgboost import XGBClassifier\n",
    "algorithm4 = XGBClassifier(random_state=random_seed)\n",
    "\n",
    "algorithms = [algorithm1, algorithm2, algorithm3, algorithm4]"
   ]
  },
  {
   "cell_type": "code",
   "execution_count": 64,
   "metadata": {},
   "outputs": [
    {
     "name": "stdout",
     "output_type": "stream",
     "text": [
      "平均スコア: 0.8569  個別スコア: [0.8534 0.9336 0.7838] , LogisticRegression\n",
      "平均スコア: 0.6994  個別スコア: [0.6936 0.8152 0.5894] , DecisionTreeClassifier\n",
      "平均スコア: 0.8856  個別スコア: [0.8747 0.9449 0.8372] , RandomForestClassifier\n",
      "[23:32:35] WARNING: C:\\Windows\\Temp\\abs_557yfx631l\\croots\\recipe\\xgboost-split_1659548953302\\work\\src\\learner.cc:1115: Starting in XGBoost 1.3.0, the default evaluation metric used with the objective 'binary:logistic' was changed from 'error' to 'logloss'. Explicitly set eval_metric if you'd like to restore the old behavior.\n",
      "[23:32:35] WARNING: C:\\Windows\\Temp\\abs_557yfx631l\\croots\\recipe\\xgboost-split_1659548953302\\work\\src\\learner.cc:1115: Starting in XGBoost 1.3.0, the default evaluation metric used with the objective 'binary:logistic' was changed from 'error' to 'logloss'. Explicitly set eval_metric if you'd like to restore the old behavior.\n",
      "[23:32:35] WARNING: C:\\Windows\\Temp\\abs_557yfx631l\\croots\\recipe\\xgboost-split_1659548953302\\work\\src\\learner.cc:1115: Starting in XGBoost 1.3.0, the default evaluation metric used with the objective 'binary:logistic' was changed from 'error' to 'logloss'. Explicitly set eval_metric if you'd like to restore the old behavior.\n",
      "平均スコア: 0.8435  個別スコア: [0.8271 0.9298 0.7735] , XGBClassifier\n"
     ]
    }
   ],
   "source": [
    "# 交差検定法を用いて最適なアルゴリズムの選定\n",
    "\n",
    "from sklearn.model_selection import StratifiedKFold\n",
    "stratifiedkfold = StratifiedKFold(n_splits=3)\n",
    "\n",
    "from sklearn.model_selection import cross_val_score\n",
    "for algorithm in algorithms:\n",
    "    # 交差検定法の実行\n",
    "    scores = cross_val_score(algorithm , x_train, y_train, cv=stratifiedkfold, scoring='roc_auc')\n",
    "    score = scores.mean()\n",
    "    name = algorithm.__class__.__name__\n",
    "    print(f'平均スコア: {score:.4f}  個別スコア: {scores} , {name}')"
   ]
  },
  {
   "cell_type": "markdown",
   "metadata": {},
   "source": [
    "今回はランダムフォレストが一番性能がよかったので以降のアルゴリズムとして利用"
   ]
  },
  {
   "cell_type": "markdown",
   "metadata": {},
   "source": [
    "## 学習・予測・評価"
   ]
  },
  {
   "cell_type": "code",
   "execution_count": 67,
   "metadata": {},
   "outputs": [],
   "source": [
    "# 学習\n",
    "algorithm3.fit(x_train, y_train)\n",
    "\n",
    "# 予測\n",
    "y_pred = algorithm3.predict(x_test)"
   ]
  },
  {
   "cell_type": "code",
   "execution_count": 99,
   "metadata": {},
   "outputs": [
    {
     "data": {
      "text/plain": [
       "array([0, 1, 0, 0, 0, 1, 0, 0, 0, 0, 0, 0, 0, 1, 1, 0, 0, 0, 0, 0, 0, 0,\n",
       "       1, 0, 0, 0, 0, 1, 0, 1, 0, 1, 0, 1, 0, 1, 1, 0, 0, 0, 1, 0, 1, 1,\n",
       "       0, 0, 0, 0, 1, 1, 1, 1, 0, 0, 0, 0, 0, 1, 1, 1, 0, 0, 1, 1, 0, 1,\n",
       "       0, 0, 1, 0, 1, 1, 0, 1, 0, 0, 0, 0, 1, 0, 0, 0, 0, 0, 1, 1, 0, 0,\n",
       "       0, 1, 0, 0, 0, 0, 0, 0, 0, 0, 0, 1, 0, 1, 0, 0, 1, 0, 0, 0, 0, 0,\n",
       "       1, 0, 0, 0, 0, 0, 0, 0], dtype=int64)"
      ]
     },
     "execution_count": 99,
     "metadata": {},
     "output_type": "execute_result"
    }
   ],
   "source": [
    "y_pred"
   ]
  },
  {
   "cell_type": "code",
   "execution_count": 72,
   "metadata": {},
   "outputs": [
    {
     "data": {
      "text/html": [
       "<div>\n",
       "<style scoped>\n",
       "    .dataframe tbody tr th:only-of-type {\n",
       "        vertical-align: middle;\n",
       "    }\n",
       "\n",
       "    .dataframe tbody tr th {\n",
       "        vertical-align: top;\n",
       "    }\n",
       "\n",
       "    .dataframe thead tr th {\n",
       "        text-align: left;\n",
       "    }\n",
       "</style>\n",
       "<table border=\"1\" class=\"dataframe\">\n",
       "  <thead>\n",
       "    <tr>\n",
       "      <th></th>\n",
       "      <th></th>\n",
       "      <th colspan=\"2\" halign=\"left\">予測結果</th>\n",
       "    </tr>\n",
       "    <tr>\n",
       "      <th></th>\n",
       "      <th></th>\n",
       "      <th>所見なし</th>\n",
       "      <th>所見あり</th>\n",
       "    </tr>\n",
       "  </thead>\n",
       "  <tbody>\n",
       "    <tr>\n",
       "      <th rowspan=\"2\" valign=\"top\">正解データ</th>\n",
       "      <th>所見なし</th>\n",
       "      <td>68</td>\n",
       "      <td>7</td>\n",
       "    </tr>\n",
       "    <tr>\n",
       "      <th>所見あり</th>\n",
       "      <td>14</td>\n",
       "      <td>29</td>\n",
       "    </tr>\n",
       "  </tbody>\n",
       "</table>\n",
       "</div>"
      ],
      "text/plain": [
       "           予測結果     \n",
       "           所見なし 所見あり\n",
       "正解データ 所見なし   68    7\n",
       "      所見あり   14   29"
      ]
     },
     "metadata": {},
     "output_type": "display_data"
    }
   ],
   "source": [
    "# 評価\n",
    "\n",
    "# 混同行列を出力\n",
    "from sklearn.metrics import confusion_matrix\n",
    "df_matrix = make_cm(\n",
    "    confusion_matrix(y_test, y_pred),\n",
    "    ['所見なし', '所見あり'])\n",
    "display(df_matrix)"
   ]
  },
  {
   "cell_type": "code",
   "execution_count": 76,
   "metadata": {},
   "outputs": [
    {
     "name": "stdout",
     "output_type": "stream",
     "text": [
      "適合率: 0.8056  再現率: 0.6744  F値: 0.7342\n"
     ]
    }
   ],
   "source": [
    "# 適合率、再現率、F値を計算\n",
    "from sklearn.metrics import precision_recall_fscore_support\n",
    "precision, recall, fscore, _ = precision_recall_fscore_support(y_test, \n",
    "    y_pred, average='binary')\n",
    "print(f'適合率: {precision:.4f}  再現率: {recall:.4f}  F値: {fscore:.4f}')"
   ]
  },
  {
   "cell_type": "markdown",
   "metadata": {},
   "source": [
    "[適合率、再現率、F値について](https://qiita.com/FukuharaYohei/items/be89a99c53586fa4e2e4)"
   ]
  },
  {
   "cell_type": "markdown",
   "metadata": {},
   "source": [
    "## チューニング"
   ]
  },
  {
   "cell_type": "code",
   "execution_count": 86,
   "metadata": {},
   "outputs": [
    {
     "data": {
      "text/plain": [
       "array([[0.95, 0.05],\n",
       "       [0.49, 0.51],\n",
       "       [0.92, 0.08],\n",
       "       [0.62, 0.38],\n",
       "       [0.96, 0.04],\n",
       "       [0.48, 0.52],\n",
       "       [0.93, 0.07],\n",
       "       [0.97, 0.03],\n",
       "       [0.8 , 0.2 ],\n",
       "       [0.55, 0.45],\n",
       "       [0.95, 0.05],\n",
       "       [0.72, 0.28],\n",
       "       [0.98, 0.02],\n",
       "       [0.17, 0.83],\n",
       "       [0.04, 0.96],\n",
       "       [0.99, 0.01],\n",
       "       [0.7 , 0.3 ],\n",
       "       [0.94, 0.06],\n",
       "       [1.  , 0.  ],\n",
       "       [0.91, 0.09],\n",
       "       [0.84, 0.16],\n",
       "       [0.92, 0.08],\n",
       "       [0.36, 0.64],\n",
       "       [0.95, 0.05],\n",
       "       [0.85, 0.15],\n",
       "       [0.9 , 0.1 ],\n",
       "       [1.  , 0.  ],\n",
       "       [0.25, 0.75],\n",
       "       [0.83, 0.17],\n",
       "       [0.36, 0.64],\n",
       "       [0.58, 0.42],\n",
       "       [0.05, 0.95],\n",
       "       [0.94, 0.06],\n",
       "       [0.34, 0.66],\n",
       "       [0.64, 0.36],\n",
       "       [0.04, 0.96],\n",
       "       [0.39, 0.61],\n",
       "       [0.61, 0.39],\n",
       "       [0.6 , 0.4 ],\n",
       "       [0.86, 0.14],\n",
       "       [0.24, 0.76],\n",
       "       [0.79, 0.21],\n",
       "       [0.4 , 0.6 ],\n",
       "       [0.11, 0.89],\n",
       "       [0.68, 0.32],\n",
       "       [0.69, 0.31],\n",
       "       [1.  , 0.  ],\n",
       "       [0.79, 0.21],\n",
       "       [0.49, 0.51],\n",
       "       [0.31, 0.69],\n",
       "       [0.11, 0.89],\n",
       "       [0.01, 0.99],\n",
       "       [0.64, 0.36],\n",
       "       [0.89, 0.11],\n",
       "       [0.96, 0.04],\n",
       "       [0.58, 0.42],\n",
       "       [0.98, 0.02],\n",
       "       [0.14, 0.86],\n",
       "       [0.22, 0.78],\n",
       "       [0.37, 0.63],\n",
       "       [0.51, 0.49],\n",
       "       [0.82, 0.18],\n",
       "       [0.19, 0.81],\n",
       "       [0.45, 0.55],\n",
       "       [0.63, 0.37],\n",
       "       [0.35, 0.65],\n",
       "       [0.85, 0.15],\n",
       "       [0.91, 0.09],\n",
       "       [0.2 , 0.8 ],\n",
       "       [0.75, 0.25],\n",
       "       [0.4 , 0.6 ],\n",
       "       [0.06, 0.94],\n",
       "       [0.96, 0.04],\n",
       "       [0.08, 0.92],\n",
       "       [0.52, 0.48],\n",
       "       [0.77, 0.23],\n",
       "       [0.96, 0.04],\n",
       "       [0.91, 0.09],\n",
       "       [0.01, 0.99],\n",
       "       [0.74, 0.26],\n",
       "       [0.99, 0.01],\n",
       "       [0.93, 0.07],\n",
       "       [0.58, 0.42],\n",
       "       [0.84, 0.16],\n",
       "       [0.35, 0.65],\n",
       "       [0.18, 0.82],\n",
       "       [0.68, 0.32],\n",
       "       [0.8 , 0.2 ],\n",
       "       [0.55, 0.45],\n",
       "       [0.44, 0.56],\n",
       "       [0.89, 0.11],\n",
       "       [0.55, 0.45],\n",
       "       [0.93, 0.07],\n",
       "       [0.85, 0.15],\n",
       "       [0.83, 0.17],\n",
       "       [0.82, 0.18],\n",
       "       [0.68, 0.32],\n",
       "       [0.56, 0.44],\n",
       "       [0.93, 0.07],\n",
       "       [0.39, 0.61],\n",
       "       [0.74, 0.26],\n",
       "       [0.39, 0.61],\n",
       "       [1.  , 0.  ],\n",
       "       [0.72, 0.28],\n",
       "       [0.23, 0.77],\n",
       "       [0.87, 0.13],\n",
       "       [0.66, 0.34],\n",
       "       [0.95, 0.05],\n",
       "       [0.98, 0.02],\n",
       "       [0.65, 0.35],\n",
       "       [0.26, 0.74],\n",
       "       [0.94, 0.06],\n",
       "       [0.76, 0.24],\n",
       "       [0.59, 0.41],\n",
       "       [1.  , 0.  ],\n",
       "       [0.8 , 0.2 ],\n",
       "       [0.92, 0.08],\n",
       "       [0.96, 0.04]])"
      ]
     },
     "execution_count": 86,
     "metadata": {},
     "output_type": "execute_result"
    }
   ],
   "source": [
    "# 確率値の度数分布グラフ\n",
    "\n",
    "algorithm3.predict_proba(x_test)"
   ]
  },
  {
   "cell_type": "code",
   "execution_count": 88,
   "metadata": {},
   "outputs": [],
   "source": [
    "# y=1の確率値取得\n",
    "y_proba1= algorithm.predict_proba(x_test)[:,1]"
   ]
  },
  {
   "cell_type": "code",
   "execution_count": 89,
   "metadata": {},
   "outputs": [
    {
     "data": {
      "text/plain": [
       "array([0.05, 0.51, 0.08, 0.38, 0.04, 0.52, 0.07, 0.03, 0.2 , 0.45, 0.05,\n",
       "       0.28, 0.02, 0.83, 0.96, 0.01, 0.3 , 0.06, 0.  , 0.09, 0.16, 0.08,\n",
       "       0.64, 0.05, 0.15, 0.1 , 0.  , 0.75, 0.17, 0.64, 0.42, 0.95, 0.06,\n",
       "       0.66, 0.36, 0.96, 0.61, 0.39, 0.4 , 0.14, 0.76, 0.21, 0.6 , 0.89,\n",
       "       0.32, 0.31, 0.  , 0.21, 0.51, 0.69, 0.89, 0.99, 0.36, 0.11, 0.04,\n",
       "       0.42, 0.02, 0.86, 0.78, 0.63, 0.49, 0.18, 0.81, 0.55, 0.37, 0.65,\n",
       "       0.15, 0.09, 0.8 , 0.25, 0.6 , 0.94, 0.04, 0.92, 0.48, 0.23, 0.04,\n",
       "       0.09, 0.99, 0.26, 0.01, 0.07, 0.42, 0.16, 0.65, 0.82, 0.32, 0.2 ,\n",
       "       0.45, 0.56, 0.11, 0.45, 0.07, 0.15, 0.17, 0.18, 0.32, 0.44, 0.07,\n",
       "       0.61, 0.26, 0.61, 0.  , 0.28, 0.77, 0.13, 0.34, 0.05, 0.02, 0.35,\n",
       "       0.74, 0.06, 0.24, 0.41, 0.  , 0.2 , 0.08, 0.04])"
      ]
     },
     "execution_count": 89,
     "metadata": {},
     "output_type": "execute_result"
    }
   ],
   "source": [
    "y_proba1"
   ]
  },
  {
   "cell_type": "code",
   "execution_count": 90,
   "metadata": {},
   "outputs": [],
   "source": [
    "# y_test=0 と y_test=1 でデータ分割\n",
    "y0 = y_proba1[y_test==0]\n",
    "y1 = y_proba1[y_test==1]"
   ]
  },
  {
   "cell_type": "code",
   "execution_count": 91,
   "metadata": {},
   "outputs": [
    {
     "data": {
      "text/plain": [
       "array([0.05, 0.08, 0.04, 0.07, 0.03, 0.05, 0.28, 0.02, 0.01, 0.06, 0.  ,\n",
       "       0.09, 0.16, 0.08, 0.05, 0.15, 0.1 , 0.17, 0.06, 0.61, 0.39, 0.14,\n",
       "       0.21, 0.6 , 0.  , 0.21, 0.51, 0.69, 0.36, 0.11, 0.04, 0.42, 0.02,\n",
       "       0.63, 0.18, 0.37, 0.65, 0.15, 0.09, 0.25, 0.04, 0.48, 0.23, 0.04,\n",
       "       0.09, 0.26, 0.01, 0.07, 0.16, 0.65, 0.32, 0.2 , 0.45, 0.11, 0.45,\n",
       "       0.07, 0.15, 0.17, 0.18, 0.32, 0.07, 0.26, 0.  , 0.28, 0.13, 0.34,\n",
       "       0.05, 0.02, 0.35, 0.06, 0.41, 0.  , 0.2 , 0.08, 0.04])"
      ]
     },
     "execution_count": 91,
     "metadata": {},
     "output_type": "execute_result"
    }
   ],
   "source": [
    "y0"
   ]
  },
  {
   "cell_type": "code",
   "execution_count": 92,
   "metadata": {},
   "outputs": [
    {
     "data": {
      "text/plain": [
       "array([0.51, 0.38, 0.52, 0.2 , 0.45, 0.83, 0.96, 0.3 , 0.64, 0.  , 0.75,\n",
       "       0.64, 0.42, 0.95, 0.66, 0.36, 0.96, 0.4 , 0.76, 0.89, 0.32, 0.31,\n",
       "       0.89, 0.99, 0.86, 0.78, 0.49, 0.81, 0.55, 0.8 , 0.6 , 0.94, 0.92,\n",
       "       0.99, 0.42, 0.82, 0.56, 0.44, 0.61, 0.61, 0.77, 0.74, 0.24])"
      ]
     },
     "execution_count": 92,
     "metadata": {},
     "output_type": "execute_result"
    }
   ],
   "source": [
    "y1"
   ]
  },
  {
   "cell_type": "code",
   "execution_count": 94,
   "metadata": {},
   "outputs": [
    {
     "data": {
      "image/png": "[encoded data removed]",
      "text/plain": [
       "<Figure size 432x432 with 1 Axes>"
      ]
     },
     "metadata": {
      "needs_background": "light"
     },
     "output_type": "display_data"
    }
   ],
   "source": [
    "# 散布図描画\n",
    "import seaborn as sns\n",
    "plt.figure(figsize=(6,6))\n",
    "plt.title('確率値の度数分布')\n",
    "sns.distplot(y1, kde=False, norm_hist=True,\n",
    "    bins=10,color='b', label='所見あり')\n",
    "sns.distplot(y0, kde=False, norm_hist=True,\n",
    "    bins=10,color='r', label='所見なし')\n",
    "plt.xlabel('確率値')\n",
    "plt.legend()\n",
    "plt.show()"
   ]
  },
  {
   "cell_type": "markdown",
   "metadata": {},
   "source": [
    "閾値見直し"
   ]
  },
  {
   "cell_type": "markdown",
   "metadata": {},
   "source": [
    "predict_proba関数を利用して、閾値0.5以外の場合の予測をする"
   ]
  },
  {
   "cell_type": "code",
   "execution_count": 95,
   "metadata": {},
   "outputs": [],
   "source": [
    "# 閾値を変更した場合の予測関数の定義\n",
    "def pred(algorithm, x, thres):\n",
    "    # 確率値の取得(行列)\n",
    "    y_proba = algorithm.predict_proba(x)\n",
    "    \n",
    "    # 予測結果1の確率値\n",
    "    y_proba1 =  y_proba[:,1]\n",
    "    \n",
    "    # 予測結果1の確率値 > 閾値\n",
    "    y_pred = (y_proba1 > thres).astype(int)\n",
    "    return y_pred"
   ]
  },
  {
   "cell_type": "code",
   "execution_count": 96,
   "metadata": {},
   "outputs": [
    {
     "name": "stdout",
     "output_type": "stream",
     "text": [
      "閾値: 0.50 合計: 36  適合率: 0.8056  再現率: 0.6744  F値: 0.7342)\n",
      "閾値: 0.45 合計: 38  適合率: 0.7895  再現率: 0.6977  F値: 0.7407)\n",
      "閾値: 0.40 合計: 46  適合率: 0.7391  再現率: 0.7907  F値: 0.7640)\n",
      "閾値: 0.35 合計: 52  適合率: 0.7115  再現率: 0.8605  F値: 0.7789)\n",
      "閾値: 0.30 合計: 58  適合率: 0.6724  再現率: 0.9070  F値: 0.7723)\n",
      "閾値: 0.25 合計: 63  適合率: 0.6349  再現率: 0.9302  F値: 0.7547)\n",
      "閾値: 0.20 合計: 68  適合率: 0.6029  再現率: 0.9535  F値: 0.7387)\n",
      "閾値: 0.15 合計: 77  適合率: 0.5455  再現率: 0.9767  F値: 0.7000)\n",
      "閾値: 0.10 合計: 84  適合率: 0.5000  再現率: 0.9767  F値: 0.6614)\n",
      "閾値: 0.05 合計: 98  適合率: 0.4286  再現率: 0.9767  F値: 0.5957)\n"
     ]
    }
   ],
   "source": [
    "# 閾値を0.05刻みに変化させて、適合率, 再現率, F値を計算する\n",
    "thres_list = np.arange(0.5, 0, -0.05)\n",
    "\n",
    "for thres in thres_list:\n",
    "    y_pred2 = pred(algorithm, x_test, thres)\n",
    "    pred_sum =  y_pred2.sum()\n",
    "    precision, recall, fscore, _ = precision_recall_fscore_support(\n",
    "        y_test, y_pred2, average='binary')\n",
    "    print(f'閾値: {thres:.2f} 合計: {pred_sum}  適合率: {precision:.4f}\\\n",
    "  再現率: {recall:.4f}  F値: {fscore:.4f})')"
   ]
  },
  {
   "cell_type": "code",
   "execution_count": 101,
   "metadata": {},
   "outputs": [
    {
     "data": {
      "text/plain": [
       "array([0, 1, 0, 1, 0, 1, 0, 0, 0, 1, 0, 1, 0, 1, 1, 0, 1, 0, 0, 0, 0, 0,\n",
       "       1, 0, 0, 0, 0, 1, 0, 1, 1, 1, 0, 1, 1, 1, 1, 1, 1, 0, 1, 0, 1, 1,\n",
       "       1, 1, 0, 0, 1, 1, 1, 1, 1, 0, 0, 1, 0, 1, 1, 1, 1, 0, 1, 1, 1, 1,\n",
       "       0, 0, 1, 0, 1, 1, 0, 1, 1, 0, 0, 0, 1, 1, 0, 0, 1, 0, 1, 1, 1, 0,\n",
       "       1, 1, 0, 1, 0, 0, 0, 0, 1, 1, 0, 1, 1, 1, 0, 1, 1, 0, 1, 0, 0, 1,\n",
       "       1, 0, 0, 1, 0, 0, 0, 0])"
      ]
     },
     "execution_count": 101,
     "metadata": {},
     "output_type": "execute_result"
    }
   ],
   "source": [
    "# 再現率重視で閾値を0.25にする\n",
    "y_final = pred(algorithm, x_test, 0.25)\n",
    "\n",
    "y_final"
   ]
  },
  {
   "cell_type": "code",
   "execution_count": 100,
   "metadata": {},
   "outputs": [
    {
     "data": {
      "text/html": [
       "<div>\n",
       "<style scoped>\n",
       "    .dataframe tbody tr th:only-of-type {\n",
       "        vertical-align: middle;\n",
       "    }\n",
       "\n",
       "    .dataframe tbody tr th {\n",
       "        vertical-align: top;\n",
       "    }\n",
       "\n",
       "    .dataframe thead tr th {\n",
       "        text-align: left;\n",
       "    }\n",
       "</style>\n",
       "<table border=\"1\" class=\"dataframe\">\n",
       "  <thead>\n",
       "    <tr>\n",
       "      <th></th>\n",
       "      <th></th>\n",
       "      <th colspan=\"2\" halign=\"left\">予測結果</th>\n",
       "    </tr>\n",
       "    <tr>\n",
       "      <th></th>\n",
       "      <th></th>\n",
       "      <th>所見なし</th>\n",
       "      <th>所見あり</th>\n",
       "    </tr>\n",
       "  </thead>\n",
       "  <tbody>\n",
       "    <tr>\n",
       "      <th rowspan=\"2\" valign=\"top\">正解データ</th>\n",
       "      <th>所見なし</th>\n",
       "      <td>52</td>\n",
       "      <td>23</td>\n",
       "    </tr>\n",
       "    <tr>\n",
       "      <th>所見あり</th>\n",
       "      <td>3</td>\n",
       "      <td>40</td>\n",
       "    </tr>\n",
       "  </tbody>\n",
       "</table>\n",
       "</div>"
      ],
      "text/plain": [
       "           予測結果     \n",
       "           所見なし 所見あり\n",
       "正解データ 所見なし   52   23\n",
       "      所見あり    3   40"
      ]
     },
     "metadata": {},
     "output_type": "display_data"
    },
    {
     "name": "stdout",
     "output_type": "stream",
     "text": [
      "適合率: 0.6349  再現率: 0.9302  F値: 0.7547\n"
     ]
    }
   ],
   "source": [
    "# 混同行列を出力\n",
    "from sklearn.metrics import confusion_matrix\n",
    "df_matrix4 = make_cm(\n",
    "    confusion_matrix(y_test, y_final),\n",
    "    ['所見なし', '所見あり'])\n",
    "display(df_matrix4)\n",
    "\n",
    "# 適合率、再現率、F値を計算\n",
    "precision, recall, fscore, _ = precision_recall_fscore_support(\n",
    "    y_test, y_final, average='binary')\n",
    "print(f'適合率: {precision:.4f}  再現率: {recall:.4f}  F値: {fscore:.4f}')"
   ]
  },
  {
   "cell_type": "code",
   "execution_count": 98,
   "metadata": {},
   "outputs": [],
   "source": [
    "#EOF"
   ]
  }
 ],
 "metadata": {
  "colab": {
   "collapsed_sections": [],
   "include_colab_link": true,
   "name": "Colaboratory へようこそ",
   "provenance": []
  },
  "kernelspec": {
   "display_name": "Python 3 (ipykernel)",
   "language": "python",
   "name": "python3"
  },
  "language_info": {
   "codemirror_mode": {
    "name": "ipython",
    "version": 3
   },
   "file_extension": ".py",
   "mimetype": "text/x-python",
   "name": "python",
   "nbconvert_exporter": "python",
   "pygments_lexer": "ipython3",
   "version": "3.9.7"
  }
 },
 "nbformat": 4,
 "nbformat_minor": 1
}
