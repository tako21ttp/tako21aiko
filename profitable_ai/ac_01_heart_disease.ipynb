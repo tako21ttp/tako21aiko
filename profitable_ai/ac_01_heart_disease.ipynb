{
  "cells": [
    {
      "cell_type": "markdown",
      "metadata": {
        "id": "view-in-github",
        "colab_type": "text"
      },
      "source": [
        "<a href=\"https://colab.research.google.com/github/tako21ttp/tako21aiko/blob/main/profitable_ai/ac_01_heart_disease.ipynb\" target=\"_parent\"><img src=\"https://colab.research.google.com/assets/colab-badge.svg\" alt=\"Open In Colab\"/></a>"
      ]
    },
    {
      "cell_type": "markdown",
      "source": [
        "[欠陥・疾患判定の自動化 (2値分類と再現率)](https://github.com/makaishi2/profitable_ai_book_info/blob/master/notebooks/ac_01_heart_disease.ipynb)"
      ],
      "metadata": {
        "id": "qd1rbC8jnJIF"
      }
    },
    {
      "cell_type": "code",
      "source": [
        "# 日本語化ライブラリ導入\n",
        "!pip install japanize-matplotlib | tail -n 1"
      ],
      "metadata": {
        "id": "qCK7UVd-nEH4",
        "outputId": "8a73adfa-d3e6-4efe-d8d5-a6e4e04fb176",
        "colab": {
          "base_uri": "https://localhost:8080/"
        }
      },
      "execution_count": 1,
      "outputs": [
        {
          "output_type": "stream",
          "name": "stdout",
          "text": [
            "Successfully installed japanize-matplotlib-1.1.3\n"
          ]
        }
      ]
    },
    {
      "cell_type": "code",
      "source": [
        "# 共通事前処理\n",
        "\n",
        "# 余分なワーニングを非表示にする\n",
        "import warnings\n",
        "warnings.filterwarnings('ignore')\n",
        "\n",
        "# 必要ライブラリのimport\n",
        "import pandas as pd\n",
        "import numpy as np\n",
        "import matplotlib.pyplot as plt\n",
        "\n",
        "# matplotlib日本語化対応\n",
        "import japanize_matplotlib\n",
        "\n",
        "# データフレーム表示用関数\n",
        "from IPython.display import display\n",
        "\n",
        "# 表示オプション調整\n",
        "# numpyの浮動小数点の表示精度\n",
        "np.set_printoptions(suppress=True, precision=4)\n",
        "\n",
        "# pandasでの浮動小数点の表示精度\n",
        "pd.options.display.float_format = '{:.4f}'.format\n",
        "\n",
        "# データフレームですべての項目を表示\n",
        "pd.set_option(\"display.max_columns\",None)\n",
        "\n",
        "# グラフのデフォルトフォント指定\n",
        "plt.rcParams[\"font.size\"] = 14\n",
        "\n",
        "# 乱数の種\n",
        "random_seed = 123"
      ],
      "metadata": {
        "id": "CMRal71CnEXq"
      },
      "execution_count": 2,
      "outputs": []
    },
    {
      "cell_type": "code",
      "source": [
        "# 混同行列表示用関数\n",
        "\n",
        "def make_cm(matrix, columns):\n",
        "    # matrix numpy配列\n",
        "    \n",
        "    # columns 項目名リスト\n",
        "    n = len(columns)\n",
        "    \n",
        "    # '正解データ'をn回繰り返すリスト生成\n",
        "    act = ['正解データ'] * n\n",
        "    pred = ['予測結果'] * n\n",
        "    \n",
        "    #データフレーム生成\n",
        "    cm = pd.DataFrame(matrix, \n",
        "        columns=[pred, columns], index=[act, columns])\n",
        "    return cm"
      ],
      "metadata": {
        "id": "Y7A_LivInEc2"
      },
      "execution_count": 3,
      "outputs": []
    },
    {
      "cell_type": "markdown",
      "source": [
        "### 項目メモ\n",
        "\n",
        "#### age\n",
        "年齢\n",
        "\n",
        "#### sex\n",
        "性別\n",
        "* 1: 男性\n",
        "* 0: 女性\n",
        "\n",
        "#### cp\n",
        "胸痛種別\n",
        "* 1：典型的な狭心症\n",
        "* 2：非定型狭心症\n",
        "* 3：非狭心痛\n",
        "* 4：無症候性 \n",
        "\n",
        "#### trestbps\n",
        "安静時血圧  \n",
        "（入院時のmm Hg単位）\n",
        "    \n",
        "#### chol\n",
        "血清コレステロール  \n",
        "（mg / dl）\n",
        "\n",
        "#### fbs\n",
        "空腹時血糖   \n",
        "(> 120 (mg / dl）)\n",
        "* 1 真\n",
        "* 0 偽\n",
        "\n",
        "#### restecg\n",
        "安静時心電図\n",
        " \n",
        "* 0：通常\n",
        "* 1：ST-T波異常（T波反転および/またはST上昇または抑圧> 0.05 mV）\n",
        "* 2：左心室肥大の可能性あり\n",
        "\n",
        "#### thalach\n",
        "最大心拍数\n",
        "\n",
        "#### exang\n",
        "運動誘発性狭心症\n",
        "* 1  はい\n",
        "* 0  いいえ\n",
        "    \n",
        "#### oldpeak\n",
        "ST低下    \n",
        "(運動により誘発される安静時と比較したST低下)\n",
        "\n",
        "#### slope\n",
        " STセグメント勾配  \n",
        "(ピーク運動STセグメント勾配)\n",
        "* 1 上昇\n",
        "* 2 フラット  \n",
        "* 3 下降\n",
        "\n",
        "#### ca \n",
        "主要血管数  \n",
        "(X線透視撮影で着色された主要な血管数（0〜3）)\n",
        "\n",
        "\n",
        "#### thal\n",
        "タール  \n",
        "(タリウム心臓スキャンの結果) \n",
        "* 3: 通常\n",
        "* 6 : 修正された欠陥\n",
        "* 7 : 回復可能な欠陥\n",
        "\n",
        "\n",
        "#### num (目的変数)\n",
        "心臓病診断  \n",
        " （血管造影の状態）\n",
        "* 0: 所見なし\n",
        "* 1: 所見あり"
      ],
      "metadata": {
        "id": "piTIvTtWnpaN"
      }
    },
    {
      "cell_type": "code",
      "source": [
        "# 心疾患公開データ読み込み\n",
        "\n",
        "columns = [\n",
        "    '年齢', '性別', '胸痛種別', '安静時血圧',  '血清コレステロール',\n",
        "    '空腹時血糖値', '安静時心電図',  '最大心拍数',  '運動誘発性狭心症',\n",
        "    'ST低下', 'STセグメント勾配', '主要血管数', 'タール', '心臓病診断'\n",
        "]\n",
        "\n",
        "# 公開データセットのURL\n",
        "url_hu = 'https://archive.ics.uci.edu/ml/machine-learning-databases/\\\n",
        "heart-disease/processed.hungarian.data'\n",
        "\n",
        "# データフレームへの取り込み\n",
        "# 欠損値は'?'で表現されているので、読み込み時にPythonのNaNに変換する\n",
        "df_hu = pd.read_csv(url_hu, header=None, names=columns, na_values='?')"
      ],
      "metadata": {
        "id": "1raurDzpnEoS"
      },
      "execution_count": 4,
      "outputs": []
    },
    {
      "cell_type": "code",
      "source": [
        "# データ全体の確認\n",
        "display(df_hu.head())"
      ],
      "metadata": {
        "id": "Y2xLh8WqnEtI",
        "colab": {
          "base_uri": "https://localhost:8080/",
          "height": 285
        },
        "outputId": "bbfef571-9bac-41b2-dc0d-0f083e27504b"
      },
      "execution_count": 5,
      "outputs": [
        {
          "output_type": "display_data",
          "data": {
            "text/plain": [
              "   年齢  性別  胸痛種別    安静時血圧  血清コレステロール  空腹時血糖値  安静時心電図    最大心拍数  運動誘発性狭心症   ST低下  \\\n",
              "0  28   1     2 130.0000   132.0000  0.0000  2.0000 185.0000    0.0000 0.0000   \n",
              "1  29   1     2 120.0000   243.0000  0.0000  0.0000 160.0000    0.0000 0.0000   \n",
              "2  29   1     2 140.0000        NaN  0.0000  0.0000 170.0000    0.0000 0.0000   \n",
              "3  30   0     1 170.0000   237.0000  0.0000  1.0000 170.0000    0.0000 0.0000   \n",
              "4  31   0     2 100.0000   219.0000  0.0000  1.0000 150.0000    0.0000 0.0000   \n",
              "\n",
              "   STセグメント勾配  主要血管数    タール  心臓病診断  \n",
              "0        NaN    NaN    NaN      0  \n",
              "1        NaN    NaN    NaN      0  \n",
              "2        NaN    NaN    NaN      0  \n",
              "3        NaN    NaN 6.0000      0  \n",
              "4        NaN    NaN    NaN      0  "
            ],
            "text/html": [
              "\n",
              "  <div id=\"df-ac2af3f3-89d6-4913-a6f7-9228016f6919\">\n",
              "    <div class=\"colab-df-container\">\n",
              "      <div>\n",
              "<style scoped>\n",
              "    .dataframe tbody tr th:only-of-type {\n",
              "        vertical-align: middle;\n",
              "    }\n",
              "\n",
              "    .dataframe tbody tr th {\n",
              "        vertical-align: top;\n",
              "    }\n",
              "\n",
              "    .dataframe thead th {\n",
              "        text-align: right;\n",
              "    }\n",
              "</style>\n",
              "<table border=\"1\" class=\"dataframe\">\n",
              "  <thead>\n",
              "    <tr style=\"text-align: right;\">\n",
              "      <th></th>\n",
              "      <th>年齢</th>\n",
              "      <th>性別</th>\n",
              "      <th>胸痛種別</th>\n",
              "      <th>安静時血圧</th>\n",
              "      <th>血清コレステロール</th>\n",
              "      <th>空腹時血糖値</th>\n",
              "      <th>安静時心電図</th>\n",
              "      <th>最大心拍数</th>\n",
              "      <th>運動誘発性狭心症</th>\n",
              "      <th>ST低下</th>\n",
              "      <th>STセグメント勾配</th>\n",
              "      <th>主要血管数</th>\n",
              "      <th>タール</th>\n",
              "      <th>心臓病診断</th>\n",
              "    </tr>\n",
              "  </thead>\n",
              "  <tbody>\n",
              "    <tr>\n",
              "      <th>0</th>\n",
              "      <td>28</td>\n",
              "      <td>1</td>\n",
              "      <td>2</td>\n",
              "      <td>130.0000</td>\n",
              "      <td>132.0000</td>\n",
              "      <td>0.0000</td>\n",
              "      <td>2.0000</td>\n",
              "      <td>185.0000</td>\n",
              "      <td>0.0000</td>\n",
              "      <td>0.0000</td>\n",
              "      <td>NaN</td>\n",
              "      <td>NaN</td>\n",
              "      <td>NaN</td>\n",
              "      <td>0</td>\n",
              "    </tr>\n",
              "    <tr>\n",
              "      <th>1</th>\n",
              "      <td>29</td>\n",
              "      <td>1</td>\n",
              "      <td>2</td>\n",
              "      <td>120.0000</td>\n",
              "      <td>243.0000</td>\n",
              "      <td>0.0000</td>\n",
              "      <td>0.0000</td>\n",
              "      <td>160.0000</td>\n",
              "      <td>0.0000</td>\n",
              "      <td>0.0000</td>\n",
              "      <td>NaN</td>\n",
              "      <td>NaN</td>\n",
              "      <td>NaN</td>\n",
              "      <td>0</td>\n",
              "    </tr>\n",
              "    <tr>\n",
              "      <th>2</th>\n",
              "      <td>29</td>\n",
              "      <td>1</td>\n",
              "      <td>2</td>\n",
              "      <td>140.0000</td>\n",
              "      <td>NaN</td>\n",
              "      <td>0.0000</td>\n",
              "      <td>0.0000</td>\n",
              "      <td>170.0000</td>\n",
              "      <td>0.0000</td>\n",
              "      <td>0.0000</td>\n",
              "      <td>NaN</td>\n",
              "      <td>NaN</td>\n",
              "      <td>NaN</td>\n",
              "      <td>0</td>\n",
              "    </tr>\n",
              "    <tr>\n",
              "      <th>3</th>\n",
              "      <td>30</td>\n",
              "      <td>0</td>\n",
              "      <td>1</td>\n",
              "      <td>170.0000</td>\n",
              "      <td>237.0000</td>\n",
              "      <td>0.0000</td>\n",
              "      <td>1.0000</td>\n",
              "      <td>170.0000</td>\n",
              "      <td>0.0000</td>\n",
              "      <td>0.0000</td>\n",
              "      <td>NaN</td>\n",
              "      <td>NaN</td>\n",
              "      <td>6.0000</td>\n",
              "      <td>0</td>\n",
              "    </tr>\n",
              "    <tr>\n",
              "      <th>4</th>\n",
              "      <td>31</td>\n",
              "      <td>0</td>\n",
              "      <td>2</td>\n",
              "      <td>100.0000</td>\n",
              "      <td>219.0000</td>\n",
              "      <td>0.0000</td>\n",
              "      <td>1.0000</td>\n",
              "      <td>150.0000</td>\n",
              "      <td>0.0000</td>\n",
              "      <td>0.0000</td>\n",
              "      <td>NaN</td>\n",
              "      <td>NaN</td>\n",
              "      <td>NaN</td>\n",
              "      <td>0</td>\n",
              "    </tr>\n",
              "  </tbody>\n",
              "</table>\n",
              "</div>\n",
              "      <button class=\"colab-df-convert\" onclick=\"convertToInteractive('df-ac2af3f3-89d6-4913-a6f7-9228016f6919')\"\n",
              "              title=\"Convert this dataframe to an interactive table.\"\n",
              "              style=\"display:none;\">\n",
              "        \n",
              "  <svg xmlns=\"http://www.w3.org/2000/svg\" height=\"24px\"viewBox=\"0 0 24 24\"\n",
              "       width=\"24px\">\n",
              "    <path d=\"M0 0h24v24H0V0z\" fill=\"none\"/>\n",
              "    <path d=\"M18.56 5.44l.94 2.06.94-2.06 2.06-.94-2.06-.94-.94-2.06-.94 2.06-2.06.94zm-11 1L8.5 8.5l.94-2.06 2.06-.94-2.06-.94L8.5 2.5l-.94 2.06-2.06.94zm10 10l.94 2.06.94-2.06 2.06-.94-2.06-.94-.94-2.06-.94 2.06-2.06.94z\"/><path d=\"M17.41 7.96l-1.37-1.37c-.4-.4-.92-.59-1.43-.59-.52 0-1.04.2-1.43.59L10.3 9.45l-7.72 7.72c-.78.78-.78 2.05 0 2.83L4 21.41c.39.39.9.59 1.41.59.51 0 1.02-.2 1.41-.59l7.78-7.78 2.81-2.81c.8-.78.8-2.07 0-2.86zM5.41 20L4 18.59l7.72-7.72 1.47 1.35L5.41 20z\"/>\n",
              "  </svg>\n",
              "      </button>\n",
              "      \n",
              "  <style>\n",
              "    .colab-df-container {\n",
              "      display:flex;\n",
              "      flex-wrap:wrap;\n",
              "      gap: 12px;\n",
              "    }\n",
              "\n",
              "    .colab-df-convert {\n",
              "      background-color: #E8F0FE;\n",
              "      border: none;\n",
              "      border-radius: 50%;\n",
              "      cursor: pointer;\n",
              "      display: none;\n",
              "      fill: #1967D2;\n",
              "      height: 32px;\n",
              "      padding: 0 0 0 0;\n",
              "      width: 32px;\n",
              "    }\n",
              "\n",
              "    .colab-df-convert:hover {\n",
              "      background-color: #E2EBFA;\n",
              "      box-shadow: 0px 1px 2px rgba(60, 64, 67, 0.3), 0px 1px 3px 1px rgba(60, 64, 67, 0.15);\n",
              "      fill: #174EA6;\n",
              "    }\n",
              "\n",
              "    [theme=dark] .colab-df-convert {\n",
              "      background-color: #3B4455;\n",
              "      fill: #D2E3FC;\n",
              "    }\n",
              "\n",
              "    [theme=dark] .colab-df-convert:hover {\n",
              "      background-color: #434B5C;\n",
              "      box-shadow: 0px 1px 3px 1px rgba(0, 0, 0, 0.15);\n",
              "      filter: drop-shadow(0px 1px 2px rgba(0, 0, 0, 0.3));\n",
              "      fill: #FFFFFF;\n",
              "    }\n",
              "  </style>\n",
              "\n",
              "      <script>\n",
              "        const buttonEl =\n",
              "          document.querySelector('#df-ac2af3f3-89d6-4913-a6f7-9228016f6919 button.colab-df-convert');\n",
              "        buttonEl.style.display =\n",
              "          google.colab.kernel.accessAllowed ? 'block' : 'none';\n",
              "\n",
              "        async function convertToInteractive(key) {\n",
              "          const element = document.querySelector('#df-ac2af3f3-89d6-4913-a6f7-9228016f6919');\n",
              "          const dataTable =\n",
              "            await google.colab.kernel.invokeFunction('convertToInteractive',\n",
              "                                                     [key], {});\n",
              "          if (!dataTable) return;\n",
              "\n",
              "          const docLinkHtml = 'Like what you see? Visit the ' +\n",
              "            '<a target=\"_blank\" href=https://colab.research.google.com/notebooks/data_table.ipynb>data table notebook</a>'\n",
              "            + ' to learn more about interactive tables.';\n",
              "          element.innerHTML = '';\n",
              "          dataTable['output_type'] = 'display_data';\n",
              "          await google.colab.output.renderOutput(dataTable, element);\n",
              "          const docLink = document.createElement('div');\n",
              "          docLink.innerHTML = docLinkHtml;\n",
              "          element.appendChild(docLink);\n",
              "        }\n",
              "      </script>\n",
              "    </div>\n",
              "  </div>\n",
              "  "
            ]
          },
          "metadata": {}
        }
      ]
    },
    {
      "cell_type": "code",
      "source": [
        "# 学習データ件数と項目数確認\n",
        "print(df_hu.shape)\n",
        "print()\n",
        "\n",
        "# 「心臓病診断」の値の分布確認\n",
        "print(df_hu['心臓病診断'].value_counts())\n",
        "print()\n",
        "\n",
        "# 所見あり比率\n",
        "rate = df_hu['心臓病診断'].value_counts()[1]/len(df_hu)\n",
        "print(f'有症率: {rate:.4f}')"
      ],
      "metadata": {
        "id": "JfieILuNnEyE",
        "colab": {
          "base_uri": "https://localhost:8080/"
        },
        "outputId": "3d2e6556-7874-462b-dab2-b369ec692e98"
      },
      "execution_count": 6,
      "outputs": [
        {
          "output_type": "stream",
          "name": "stdout",
          "text": [
            "(294, 14)\n",
            "\n",
            "0    188\n",
            "1    106\n",
            "Name: 心臓病診断, dtype: int64\n",
            "\n",
            "有症率: 0.3605\n"
          ]
        }
      ]
    },
    {
      "cell_type": "code",
      "source": [
        "# ヒストグラム表示\n",
        "\n",
        "# グラフのサイズ調整のためのおまじない\n",
        "from pylab import rcParams\n",
        "rcParams['figure.figsize'] = (12, 12)\n",
        "\n",
        "# データフレームの数値項目でヒストグラム表示\n",
        "df_hu.hist()\n",
        "plt.show()"
      ],
      "metadata": {
        "id": "EVF7GGPknE3N",
        "colab": {
          "base_uri": "https://localhost:8080/",
          "height": 722
        },
        "outputId": "b9f9acc3-f5af-4813-82db-2c63fc604eea"
      },
      "execution_count": 7,
      "outputs": [
        {
          "output_type": "display_data",
          "data": {
            "text/plain": [
              "<Figure size 864x864 with 16 Axes>"
            ],
            "image/png": "[encoded data removed]"
          },
          "metadata": {
            "needs_background": "light"
          }
        }
      ]
    },
    {
      "cell_type": "code",
      "source": [
        "# 欠損値確認\n",
        "print(df_hu.isnull().sum())"
      ],
      "metadata": {
        "colab": {
          "base_uri": "https://localhost:8080/"
        },
        "id": "JKuEu-pHosWr",
        "outputId": "5a36aef1-36bb-444a-9020-d794bf0d7eab"
      },
      "execution_count": 8,
      "outputs": [
        {
          "output_type": "stream",
          "name": "stdout",
          "text": [
            "年齢             0\n",
            "性別             0\n",
            "胸痛種別           0\n",
            "安静時血圧          1\n",
            "血清コレステロール     23\n",
            "空腹時血糖値         8\n",
            "安静時心電図         1\n",
            "最大心拍数          1\n",
            "運動誘発性狭心症       1\n",
            "ST低下           0\n",
            "STセグメント勾配    190\n",
            "主要血管数        291\n",
            "タール          266\n",
            "心臓病診断          0\n",
            "dtype: int64\n"
          ]
        }
      ]
    },
    {
      "cell_type": "markdown",
      "metadata": {
        "id": "bHosUSGAn1oT"
      },
      "source": [
        "#### データ前処理"
      ]
    },
    {
      "cell_type": "markdown",
      "metadata": {
        "id": "Cay3tJs7n1oU"
      },
      "source": [
        "#### 欠損値対応方針\n",
        "\n",
        "* 安静時血圧: 平均値\n",
        "*  血清コレステロール: 平均値\n",
        "* 空腹時血糖値: 0\n",
        "* 安静時心電図: 0\n",
        "* 最大心拍数: 平均値\n",
        "* 運動誘発性狭心症: 0   \n",
        "* STセグメント勾配: 2  \n",
        "----    \n",
        "* 主要血管数: 項目ごと落とす\n",
        "* タール: 項目ごと落とす\n"
      ]
    },
    {
      "cell_type": "code",
      "source": [
        "# 平均値の計算\n",
        "ave1 = df_hu['安静時血圧'].mean()\n",
        "ave2 = df_hu['血清コレステロール'].mean()\n",
        "ave3 = df_hu['最大心拍数'].mean()\n",
        "\n",
        "# 結果確認\n",
        "print(f'安静時血圧: {ave1:.1f}  血清コレステロール: {ave2:.1f}   最大心拍数:{ave3:.1f}')"
      ],
      "metadata": {
        "colab": {
          "base_uri": "https://localhost:8080/"
        },
        "id": "eALDQuuVo8fD",
        "outputId": "bb0fef1b-8832-4c93-a12b-aaf4dd27f96a"
      },
      "execution_count": 9,
      "outputs": [
        {
          "output_type": "stream",
          "name": "stdout",
          "text": [
            "安静時血圧: 132.6  血清コレステロール: 250.8   最大心拍数:139.1\n"
          ]
        }
      ]
    },
    {
      "cell_type": "code",
      "source": [
        "# 欠損値の置換\n",
        "df2 = df_hu.fillna(\n",
        "    {'安静時血圧': ave1,\n",
        "    '血清コレステロール': ave2,\n",
        "    '空腹時血糖値': 0,\n",
        "    '安静時心電図': 0,\n",
        "    '最大心拍数': ave3,\n",
        "    '運動誘発性狭心症': 0,\n",
        "    'STセグメント勾配': 2}\n",
        ")\n",
        "\n",
        "# 列の削除\n",
        "df3 = df2.drop(['主要血管数', 'タール'], axis=1)"
      ],
      "metadata": {
        "id": "izS0ppDipRPy"
      },
      "execution_count": 10,
      "outputs": []
    },
    {
      "cell_type": "code",
      "source": [
        "# 結果確認\n",
        "print(df3.isnull().sum())\n",
        "display(df3.head())"
      ],
      "metadata": {
        "id": "JzTy6wv5pXVl",
        "outputId": "dbb1caa8-bcd2-48bc-9cf8-ef16bb3ab11f",
        "colab": {
          "base_uri": "https://localhost:8080/",
          "height": 501
        }
      },
      "execution_count": 11,
      "outputs": [
        {
          "output_type": "stream",
          "name": "stdout",
          "text": [
            "年齢           0\n",
            "性別           0\n",
            "胸痛種別         0\n",
            "安静時血圧        0\n",
            "血清コレステロール    0\n",
            "空腹時血糖値       0\n",
            "安静時心電図       0\n",
            "最大心拍数        0\n",
            "運動誘発性狭心症     0\n",
            "ST低下         0\n",
            "STセグメント勾配    0\n",
            "心臓病診断        0\n",
            "dtype: int64\n"
          ]
        },
        {
          "output_type": "display_data",
          "data": {
            "text/plain": [
              "   年齢  性別  胸痛種別    安静時血圧  血清コレステロール  空腹時血糖値  安静時心電図    最大心拍数  運動誘発性狭心症   ST低下  \\\n",
              "0  28   1     2 130.0000   132.0000  0.0000  2.0000 185.0000    0.0000 0.0000   \n",
              "1  29   1     2 120.0000   243.0000  0.0000  0.0000 160.0000    0.0000 0.0000   \n",
              "2  29   1     2 140.0000   250.8487  0.0000  0.0000 170.0000    0.0000 0.0000   \n",
              "3  30   0     1 170.0000   237.0000  0.0000  1.0000 170.0000    0.0000 0.0000   \n",
              "4  31   0     2 100.0000   219.0000  0.0000  1.0000 150.0000    0.0000 0.0000   \n",
              "\n",
              "   STセグメント勾配  心臓病診断  \n",
              "0     2.0000      0  \n",
              "1     2.0000      0  \n",
              "2     2.0000      0  \n",
              "3     2.0000      0  \n",
              "4     2.0000      0  "
            ],
            "text/html": [
              "\n",
              "  <div id=\"df-424a538a-ea5b-4672-8181-25a1b1b3029c\">\n",
              "    <div class=\"colab-df-container\">\n",
              "      <div>\n",
              "<style scoped>\n",
              "    .dataframe tbody tr th:only-of-type {\n",
              "        vertical-align: middle;\n",
              "    }\n",
              "\n",
              "    .dataframe tbody tr th {\n",
              "        vertical-align: top;\n",
              "    }\n",
              "\n",
              "    .dataframe thead th {\n",
              "        text-align: right;\n",
              "    }\n",
              "</style>\n",
              "<table border=\"1\" class=\"dataframe\">\n",
              "  <thead>\n",
              "    <tr style=\"text-align: right;\">\n",
              "      <th></th>\n",
              "      <th>年齢</th>\n",
              "      <th>性別</th>\n",
              "      <th>胸痛種別</th>\n",
              "      <th>安静時血圧</th>\n",
              "      <th>血清コレステロール</th>\n",
              "      <th>空腹時血糖値</th>\n",
              "      <th>安静時心電図</th>\n",
              "      <th>最大心拍数</th>\n",
              "      <th>運動誘発性狭心症</th>\n",
              "      <th>ST低下</th>\n",
              "      <th>STセグメント勾配</th>\n",
              "      <th>心臓病診断</th>\n",
              "    </tr>\n",
              "  </thead>\n",
              "  <tbody>\n",
              "    <tr>\n",
              "      <th>0</th>\n",
              "      <td>28</td>\n",
              "      <td>1</td>\n",
              "      <td>2</td>\n",
              "      <td>130.0000</td>\n",
              "      <td>132.0000</td>\n",
              "      <td>0.0000</td>\n",
              "      <td>2.0000</td>\n",
              "      <td>185.0000</td>\n",
              "      <td>0.0000</td>\n",
              "      <td>0.0000</td>\n",
              "      <td>2.0000</td>\n",
              "      <td>0</td>\n",
              "    </tr>\n",
              "    <tr>\n",
              "      <th>1</th>\n",
              "      <td>29</td>\n",
              "      <td>1</td>\n",
              "      <td>2</td>\n",
              "      <td>120.0000</td>\n",
              "      <td>243.0000</td>\n",
              "      <td>0.0000</td>\n",
              "      <td>0.0000</td>\n",
              "      <td>160.0000</td>\n",
              "      <td>0.0000</td>\n",
              "      <td>0.0000</td>\n",
              "      <td>2.0000</td>\n",
              "      <td>0</td>\n",
              "    </tr>\n",
              "    <tr>\n",
              "      <th>2</th>\n",
              "      <td>29</td>\n",
              "      <td>1</td>\n",
              "      <td>2</td>\n",
              "      <td>140.0000</td>\n",
              "      <td>250.8487</td>\n",
              "      <td>0.0000</td>\n",
              "      <td>0.0000</td>\n",
              "      <td>170.0000</td>\n",
              "      <td>0.0000</td>\n",
              "      <td>0.0000</td>\n",
              "      <td>2.0000</td>\n",
              "      <td>0</td>\n",
              "    </tr>\n",
              "    <tr>\n",
              "      <th>3</th>\n",
              "      <td>30</td>\n",
              "      <td>0</td>\n",
              "      <td>1</td>\n",
              "      <td>170.0000</td>\n",
              "      <td>237.0000</td>\n",
              "      <td>0.0000</td>\n",
              "      <td>1.0000</td>\n",
              "      <td>170.0000</td>\n",
              "      <td>0.0000</td>\n",
              "      <td>0.0000</td>\n",
              "      <td>2.0000</td>\n",
              "      <td>0</td>\n",
              "    </tr>\n",
              "    <tr>\n",
              "      <th>4</th>\n",
              "      <td>31</td>\n",
              "      <td>0</td>\n",
              "      <td>2</td>\n",
              "      <td>100.0000</td>\n",
              "      <td>219.0000</td>\n",
              "      <td>0.0000</td>\n",
              "      <td>1.0000</td>\n",
              "      <td>150.0000</td>\n",
              "      <td>0.0000</td>\n",
              "      <td>0.0000</td>\n",
              "      <td>2.0000</td>\n",
              "      <td>0</td>\n",
              "    </tr>\n",
              "  </tbody>\n",
              "</table>\n",
              "</div>\n",
              "      <button class=\"colab-df-convert\" onclick=\"convertToInteractive('df-424a538a-ea5b-4672-8181-25a1b1b3029c')\"\n",
              "              title=\"Convert this dataframe to an interactive table.\"\n",
              "              style=\"display:none;\">\n",
              "        \n",
              "  <svg xmlns=\"http://www.w3.org/2000/svg\" height=\"24px\"viewBox=\"0 0 24 24\"\n",
              "       width=\"24px\">\n",
              "    <path d=\"M0 0h24v24H0V0z\" fill=\"none\"/>\n",
              "    <path d=\"M18.56 5.44l.94 2.06.94-2.06 2.06-.94-2.06-.94-.94-2.06-.94 2.06-2.06.94zm-11 1L8.5 8.5l.94-2.06 2.06-.94-2.06-.94L8.5 2.5l-.94 2.06-2.06.94zm10 10l.94 2.06.94-2.06 2.06-.94-2.06-.94-.94-2.06-.94 2.06-2.06.94z\"/><path d=\"M17.41 7.96l-1.37-1.37c-.4-.4-.92-.59-1.43-.59-.52 0-1.04.2-1.43.59L10.3 9.45l-7.72 7.72c-.78.78-.78 2.05 0 2.83L4 21.41c.39.39.9.59 1.41.59.51 0 1.02-.2 1.41-.59l7.78-7.78 2.81-2.81c.8-.78.8-2.07 0-2.86zM5.41 20L4 18.59l7.72-7.72 1.47 1.35L5.41 20z\"/>\n",
              "  </svg>\n",
              "      </button>\n",
              "      \n",
              "  <style>\n",
              "    .colab-df-container {\n",
              "      display:flex;\n",
              "      flex-wrap:wrap;\n",
              "      gap: 12px;\n",
              "    }\n",
              "\n",
              "    .colab-df-convert {\n",
              "      background-color: #E8F0FE;\n",
              "      border: none;\n",
              "      border-radius: 50%;\n",
              "      cursor: pointer;\n",
              "      display: none;\n",
              "      fill: #1967D2;\n",
              "      height: 32px;\n",
              "      padding: 0 0 0 0;\n",
              "      width: 32px;\n",
              "    }\n",
              "\n",
              "    .colab-df-convert:hover {\n",
              "      background-color: #E2EBFA;\n",
              "      box-shadow: 0px 1px 2px rgba(60, 64, 67, 0.3), 0px 1px 3px 1px rgba(60, 64, 67, 0.15);\n",
              "      fill: #174EA6;\n",
              "    }\n",
              "\n",
              "    [theme=dark] .colab-df-convert {\n",
              "      background-color: #3B4455;\n",
              "      fill: #D2E3FC;\n",
              "    }\n",
              "\n",
              "    [theme=dark] .colab-df-convert:hover {\n",
              "      background-color: #434B5C;\n",
              "      box-shadow: 0px 1px 3px 1px rgba(0, 0, 0, 0.15);\n",
              "      filter: drop-shadow(0px 1px 2px rgba(0, 0, 0, 0.3));\n",
              "      fill: #FFFFFF;\n",
              "    }\n",
              "  </style>\n",
              "\n",
              "      <script>\n",
              "        const buttonEl =\n",
              "          document.querySelector('#df-424a538a-ea5b-4672-8181-25a1b1b3029c button.colab-df-convert');\n",
              "        buttonEl.style.display =\n",
              "          google.colab.kernel.accessAllowed ? 'block' : 'none';\n",
              "\n",
              "        async function convertToInteractive(key) {\n",
              "          const element = document.querySelector('#df-424a538a-ea5b-4672-8181-25a1b1b3029c');\n",
              "          const dataTable =\n",
              "            await google.colab.kernel.invokeFunction('convertToInteractive',\n",
              "                                                     [key], {});\n",
              "          if (!dataTable) return;\n",
              "\n",
              "          const docLinkHtml = 'Like what you see? Visit the ' +\n",
              "            '<a target=\"_blank\" href=https://colab.research.google.com/notebooks/data_table.ipynb>data table notebook</a>'\n",
              "            + ' to learn more about interactive tables.';\n",
              "          element.innerHTML = '';\n",
              "          dataTable['output_type'] = 'display_data';\n",
              "          await google.colab.output.renderOutput(dataTable, element);\n",
              "          const docLink = document.createElement('div');\n",
              "          docLink.innerHTML = docLinkHtml;\n",
              "          element.appendChild(docLink);\n",
              "        }\n",
              "      </script>\n",
              "    </div>\n",
              "  </div>\n",
              "  "
            ]
          },
          "metadata": {}
        }
      ]
    },
    {
      "cell_type": "markdown",
      "metadata": {
        "id": "XHSVyU3In1oU"
      },
      "source": [
        "#### データ分割"
      ]
    },
    {
      "cell_type": "code",
      "source": [
        "# 入力データと正解データの分離\n",
        "x = df3.drop('心臓病診断', axis=1)\n",
        "y = df3['心臓病診断'].values\n",
        "\n",
        "# 訓練データと検証データの分離\n",
        "test_size=0.40\n",
        "\n",
        "from sklearn.model_selection import train_test_split\n",
        "\n",
        "x_train, x_test, y_train, y_test = train_test_split(\n",
        "  x, y, test_size=test_size, random_state=random_seed,\n",
        "  stratify=y)"
      ],
      "metadata": {
        "id": "YGrcMag_piPD"
      },
      "execution_count": 12,
      "outputs": []
    },
    {
      "cell_type": "markdown",
      "metadata": {
        "id": "s6QR2o5Sn1oV"
      },
      "source": [
        "#### アルゴリズム選定"
      ]
    }
  ],
  "metadata": {
    "colab": {
      "collapsed_sections": [],
      "name": "Colaboratory へようこそ",
      "provenance": [],
      "include_colab_link": true
    },
    "kernelspec": {
      "display_name": "Python 3",
      "name": "python3"
    }
  },
  "nbformat": 4,
  "nbformat_minor": 0
}