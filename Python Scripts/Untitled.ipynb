{
 "cells": [
  {
   "cell_type": "markdown",
   "id": "2a2ee506",
   "metadata": {},
   "source": [
    "[機械学習の入り口「線形回帰」の実装を Python × NumPy で体験](https://zero2one.jp/learningblog/machine-learning-linear-regression/)"
   ]
  },
  {
   "cell_type": "code",
   "execution_count": 1,
   "id": "f6c2cf67",
   "metadata": {},
   "outputs": [],
   "source": [
    "import numpy as np\n",
    "import matplotlib.pyplot as plt"
   ]
  },
  {
   "cell_type": "code",
   "execution_count": 3,
   "id": "3fdf9f7e",
   "metadata": {},
   "outputs": [],
   "source": [
    "# X：30個の入力データ（身長 [cm]）\n",
    "X = np.array([131, 132, 132, 133.5, 135, 142, 143.8, 144, 148, 149, 150, 152, 153, 157, 158, 158, 162, 164, 166, 169, 169.5, 170, 172, 173, 173, 176, 180, 184, 186, 190])\n",
    "\n",
    "# Y：Xに対応する正解データ（体重 [kg]）\n",
    "Y = np.array([31, 28, 35, 40, 31, 40, 42, 45, 50, 48, 56, 50, 51, 56, 65, 61, 66, 61.5, 69, 71, 63, 68, 80, 74, 76.5, 82, 68, 75, 92, 90])"
   ]
  },
  {
   "cell_type": "code",
   "execution_count": 4,
   "id": "bbcd0a68",
   "metadata": {},
   "outputs": [
    {
     "data": {
      "image/png": "[encoded data removed]",
      "text/plain": [
       "<Figure size 432x288 with 1 Axes>"
      ]
     },
     "metadata": {
      "needs_background": "light"
     },
     "output_type": "display_data"
    }
   ],
   "source": [
    "#グラフ表示\n",
    "plt.scatter(X, Y) #散布図\n",
    "plt.xlabel('Height')\n",
    "plt.ylabel('Weight')\n",
    "plt.show()"
   ]
  },
  {
   "cell_type": "code",
   "execution_count": null,
   "id": "93c096db",
   "metadata": {},
   "outputs": [],
   "source": []
  }
 ],
 "metadata": {
  "kernelspec": {
   "display_name": "Python 3 (ipykernel)",
   "language": "python",
   "name": "python3"
  },
  "language_info": {
   "codemirror_mode": {
    "name": "ipython",
    "version": 3
   },
   "file_extension": ".py",
   "mimetype": "text/x-python",
   "name": "python",
   "nbconvert_exporter": "python",
   "pygments_lexer": "ipython3",
   "version": "3.9.7"
  }
 },
 "nbformat": 4,
 "nbformat_minor": 5
}
