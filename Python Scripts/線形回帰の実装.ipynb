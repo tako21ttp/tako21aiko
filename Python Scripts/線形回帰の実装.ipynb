{
  "cells": [
    {
      "cell_type": "markdown",
      "metadata": {
        "id": "view-in-github",
        "colab_type": "text"
      },
      "source": [
        "<a href=\"https://colab.research.google.com/github/tako21ttp/tako21aiko/blob/main/Python%20Scripts/%E7%B7%9A%E5%BD%A2%E5%9B%9E%E5%B8%B0%E3%81%AE%E5%AE%9F%E8%A3%85.ipynb\" target=\"_parent\"><img src=\"https://colab.research.google.com/assets/colab-badge.svg\" alt=\"Open In Colab\"/></a>"
      ]
    },
    {
      "cell_type": "markdown",
      "id": "2a2ee506",
      "metadata": {
        "id": "2a2ee506"
      },
      "source": [
        "[機械学習の入り口「線形回帰」の実装を Python × NumPy で体験](https://zero2one.jp/learningblog/machine-learning-linear-regression/)"
      ]
    },
    {
      "cell_type": "code",
      "execution_count": 1,
      "id": "f6c2cf67",
      "metadata": {
        "id": "f6c2cf67"
      },
      "outputs": [],
      "source": [
        "import numpy as np\n",
        "import matplotlib.pyplot as plt"
      ]
    },
    {
      "cell_type": "markdown",
      "source": [
        "「30人の身長と体重のデータ」をNumPy配列で作成します。"
      ],
      "metadata": {
        "id": "aS2NhcAIEoJd"
      },
      "id": "aS2NhcAIEoJd"
    },
    {
      "cell_type": "code",
      "execution_count": 2,
      "id": "3fdf9f7e",
      "metadata": {
        "id": "3fdf9f7e"
      },
      "outputs": [],
      "source": [
        "# X：30個の入力データ（身長 [cm]）\n",
        "X = np.array([131, 132, 132, 133.5, 135, 142, 143.8, 144, 148, 149, 150, 152, 153, 157, 158, 158, 162, 164, 166, 169, 169.5, 170, 172, 173, 173, 176, 180, 184, 186, 190])\n",
        "\n",
        "# Y：Xに対応する正解データ（体重 [kg]）\n",
        "Y = np.array([31, 28, 35, 40, 31, 40, 42, 45, 50, 48, 56, 50, 51, 56, 65, 61, 66, 61.5, 69, 71, 63, 68, 80, 74, 76.5, 82, 68, 75, 92, 90])"
      ]
    },
    {
      "cell_type": "code",
      "execution_count": 3,
      "id": "bbcd0a68",
      "metadata": {
        "id": "bbcd0a68",
        "outputId": "a9c00825-ca3d-4a42-ba3e-7551bb21efd3",
        "colab": {
          "base_uri": "https://localhost:8080/",
          "height": 279
        }
      },
      "outputs": [
        {
          "output_type": "display_data",
          "data": {
            "text/plain": [
              "<Figure size 432x288 with 1 Axes>"
            ],
            "image/png": "[encoded data removed]"
          },
          "metadata": {
            "needs_background": "light"
          }
        }
      ],
      "source": [
        "#グラフ表示\n",
        "plt.scatter(X, Y) #散布図\n",
        "plt.xlabel('Height')\n",
        "plt.ylabel('Weight')\n",
        "plt.show()"
      ]
    },
    {
      "cell_type": "markdown",
      "source": [
        "実は、このデータのまま学習すると上手くいかない可能性があります。それはデータのスケール（値の範囲）が違うためです。先ほど用意したデータを見ると、\n",
        "・身長：約130～190 cm\n",
        "・体重：約30～90 kg\n",
        "と桁が一つ違うことがわかります。このようにデータのスケールに偏りがあると上手く学習できないため、事前にスケールを揃えておくことが必要です。\n",
        "\n",
        "データのスケールを揃える処理を一般に「正規化」といい、今回はその中でもよく使われる「標準化」を行います。\n",
        "\n",
        "標準化の計算方法について、詳しくは[「データの前処理：正規化・標準化のプロセスをプログラムで体験」](https://zero2one.jp/learningblog/data-normalization-standardization/)で説明しているので、ここでは「データのスケールを揃えた方がいい」程度の理解でかまいません。"
      ],
      "metadata": {
        "id": "2cuRBqDhEvBS"
      },
      "id": "2cuRBqDhEvBS"
    },
    {
      "cell_type": "code",
      "execution_count": 4,
      "id": "93c096db",
      "metadata": {
        "id": "93c096db"
      },
      "outputs": [],
      "source": [
        "#標準化する関数を定義\n",
        "def stand(x):\n",
        "    M=x.mean()\n",
        "    S=x.std()\n",
        "    x=(x-M)/S\n",
        "    return x"
      ]
    },
    {
      "cell_type": "code",
      "source": [
        "X=stand(X) #Xを標準化\n",
        "Y=stand(Y) #yを標準化"
      ],
      "metadata": {
        "id": "eZWsN4i8E6Ee"
      },
      "id": "eZWsN4i8E6Ee",
      "execution_count": 5,
      "outputs": []
    },
    {
      "cell_type": "code",
      "source": [
        "#グラフ表示\n",
        "plt.scatter(X, Y) #散布図\n",
        "plt.xlabel('Height')\n",
        "plt.ylabel('Weight')\n",
        "plt.show()"
      ],
      "metadata": {
        "id": "lqYgh3BLE83E",
        "outputId": "c666e57e-1d98-4c2b-b79c-0da27ca4c4c0",
        "colab": {
          "base_uri": "https://localhost:8080/",
          "height": 279
        }
      },
      "id": "lqYgh3BLE83E",
      "execution_count": 6,
      "outputs": [
        {
          "output_type": "display_data",
          "data": {
            "text/plain": [
              "<Figure size 432x288 with 1 Axes>"
            ],
            "image/png": "[encoded data removed]"
          },
          "metadata": {
            "needs_background": "light"
          }
        }
      ]
    },
    {
      "cell_type": "markdown",
      "source": [
        "データXとYの範囲がどちらもだいたい（-2～2）になったと思います。これでデータのスケールを揃えることができたので、いよいよ線形回帰に入っていきましょう。"
      ],
      "metadata": {
        "id": "7C5nJckVFH_b"
      },
      "id": "7C5nJckVFH_b"
    },
    {
      "cell_type": "code",
      "source": [
        "#初期値を1としてパラメータを設定\n",
        "a=1\n",
        "b=1\n",
        "\n",
        "#仮説を定義\n",
        "h=a*X+b\n",
        "\n",
        "#データと仮説を重ねてプロットします。\n",
        "plt.scatter(X, Y) #データをプロット\n",
        "plt.plot(X, h, c='orange') #仮説をプロット\n",
        "plt.legend((u'Data',u'Regression line')) #凡例\n",
        "plt.xlabel('Height')\n",
        "plt.ylabel('Weight')\n",
        "plt.show()"
      ],
      "metadata": {
        "id": "fjwCLGxDFIiW",
        "outputId": "2c54af98-0d9c-4401-ec13-ca596c57a97b",
        "colab": {
          "base_uri": "https://localhost:8080/",
          "height": 279
        }
      },
      "id": "fjwCLGxDFIiW",
      "execution_count": 7,
      "outputs": [
        {
          "output_type": "display_data",
          "data": {
            "text/plain": [
              "<Figure size 432x288 with 1 Axes>"
            ],
            "image/png": "[encoded data removed]"
          },
          "metadata": {
            "needs_background": "light"
          }
        }
      ]
    },
    {
      "cell_type": "code",
      "source": [],
      "metadata": {
        "id": "99Xhupf2FQYS"
      },
      "id": "99Xhupf2FQYS",
      "execution_count": null,
      "outputs": []
    }
  ],
  "metadata": {
    "kernelspec": {
      "display_name": "Python 3 (ipykernel)",
      "language": "python",
      "name": "python3"
    },
    "language_info": {
      "codemirror_mode": {
        "name": "ipython",
        "version": 3
      },
      "file_extension": ".py",
      "mimetype": "text/x-python",
      "name": "python",
      "nbconvert_exporter": "python",
      "pygments_lexer": "ipython3",
      "version": "3.9.7"
    },
    "colab": {
      "provenance": [],
      "include_colab_link": true
    }
  },
  "nbformat": 4,
  "nbformat_minor": 5
}