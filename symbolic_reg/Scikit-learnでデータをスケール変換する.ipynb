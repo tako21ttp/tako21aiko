{
 "cells": [
  {
   "cell_type": "markdown",
   "id": "34ccfe8c",
   "metadata": {},
   "source": [
    "# [Scikit-learnでデータをスケール変換する](https://helve-blog.com/posts/python/scikit-learn-feature-scaling/)"
   ]
  },
  {
   "cell_type": "code",
   "execution_count": 1,
   "id": "d0d8c01d",
   "metadata": {},
   "outputs": [],
   "source": [
    "import numpy as np\n",
    "import matplotlib.pyplot as plt\n",
    "from sklearn import preprocessing"
   ]
  },
  {
   "cell_type": "markdown",
   "id": "c46102b6",
   "metadata": {},
   "source": [
    "## StandardScalerの使用例"
   ]
  },
  {
   "cell_type": "markdown",
   "id": "940b6d8a",
   "metadata": {},
   "source": [
    "以下の2次元配列`x`を用意する。"
   ]
  },
  {
   "cell_type": "code",
   "execution_count": 2,
   "id": "8d0c3b80",
   "metadata": {},
   "outputs": [
    {
     "name": "stdout",
     "output_type": "stream",
     "text": [
      "[[0. 1.]\n",
      " [2. 3.]\n",
      " [4. 5.]\n",
      " [6. 7.]]\n",
      "[3. 4.]\n",
      "[2.23606798 2.23606798]\n"
     ]
    }
   ],
   "source": [
    "x = np.arange(0, 8, 1.).reshape(-1, 2)\n",
    "print(x)\n",
    "print(x.mean(axis=0))\n",
    "print(x.std(axis=0))"
   ]
  },
  {
   "cell_type": "code",
   "execution_count": 3,
   "id": "5658cb77",
   "metadata": {},
   "outputs": [
    {
     "name": "stdout",
     "output_type": "stream",
     "text": [
      "[[-1.34164079 -1.34164079]\n",
      " [-0.4472136  -0.4472136 ]\n",
      " [ 0.4472136   0.4472136 ]\n",
      " [ 1.34164079  1.34164079]]\n",
      "[0. 0.]\n",
      "[1. 1.]\n"
     ]
    }
   ],
   "source": [
    "sscaler = preprocessing.StandardScaler() # インスタンスの作成\n",
    "\n",
    "sscaler.fit(x)           # xの平均と標準偏差を計算\n",
    "y = sscaler.transform(x) # xを変換\n",
    "\n",
    "print(y)\n",
    "print(y.mean(axis=0))\n",
    "print(y.std(axis=0))"
   ]
  },
  {
   "cell_type": "markdown",
   "id": "31ecbfaf",
   "metadata": {},
   "source": [
    "以下の通り、変換後の配列`y`は各列とも平均は0, 標準偏差は1となった。"
   ]
  },
  {
   "cell_type": "markdown",
   "id": "4f531ffa",
   "metadata": {},
   "source": [
    "ここで、以下は上と同じ操作となる。"
   ]
  },
  {
   "cell_type": "code",
   "execution_count": 6,
   "id": "fcdf6eda",
   "metadata": {},
   "outputs": [
    {
     "name": "stdout",
     "output_type": "stream",
     "text": [
      "[[-1.34164079 -1.34164079]\n",
      " [-0.4472136  -0.4472136 ]\n",
      " [ 0.4472136   0.4472136 ]\n",
      " [ 1.34164079  1.34164079]]\n",
      "[0. 0.]\n",
      "[1. 1.]\n"
     ]
    }
   ],
   "source": [
    "y = sscaler.fit_transform(x) # xを変換した結果が返る\n",
    "\n",
    "print(y)\n",
    "print(y.mean(axis=0))\n",
    "print(y.std(axis=0))"
   ]
  },
  {
   "cell_type": "markdown",
   "id": "f9c4e764",
   "metadata": {},
   "source": [
    "# EOF"
   ]
  }
 ],
 "metadata": {
  "kernelspec": {
   "display_name": "Python 3 (ipykernel)",
   "language": "python",
   "name": "python3"
  },
  "language_info": {
   "codemirror_mode": {
    "name": "ipython",
    "version": 3
   },
   "file_extension": ".py",
   "mimetype": "text/x-python",
   "name": "python",
   "nbconvert_exporter": "python",
   "pygments_lexer": "ipython3",
   "version": "3.9.7"
  }
 },
 "nbformat": 4,
 "nbformat_minor": 5
}
